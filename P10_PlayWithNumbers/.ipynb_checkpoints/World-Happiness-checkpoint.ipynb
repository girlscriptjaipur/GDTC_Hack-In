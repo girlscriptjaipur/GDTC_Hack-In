{
 "cells": [
  {
   "cell_type": "markdown",
   "metadata": {},
   "source": [
    "# Worlds' Happiness Report"
   ]
  },
  {
   "cell_type": "code",
   "execution_count": 2,
   "metadata": {},
   "outputs": [],
   "source": [
    "import pandas as pd\n",
    "import numpy as np\n",
    "import matplotlib.pyplot as plt\n",
    "%matplotlib inline\n",
    "import seaborn as sns"
   ]
  },
  {
   "cell_type": "code",
   "execution_count": 3,
   "metadata": {
    "scrolled": true
   },
   "outputs": [
    {
     "data": {
      "text/html": [
       "<div>\n",
       "<style scoped>\n",
       "    .dataframe tbody tr th:only-of-type {\n",
       "        vertical-align: middle;\n",
       "    }\n",
       "\n",
       "    .dataframe tbody tr th {\n",
       "        vertical-align: top;\n",
       "    }\n",
       "\n",
       "    .dataframe thead th {\n",
       "        text-align: right;\n",
       "    }\n",
       "</style>\n",
       "<table border=\"1\" class=\"dataframe\">\n",
       "  <thead>\n",
       "    <tr style=\"text-align: right;\">\n",
       "      <th></th>\n",
       "      <th>Country (region)</th>\n",
       "      <th>Ladder</th>\n",
       "      <th>SD of Ladder</th>\n",
       "      <th>Positive affect</th>\n",
       "      <th>Negative affect</th>\n",
       "      <th>Social support</th>\n",
       "      <th>Freedom</th>\n",
       "      <th>Corruption</th>\n",
       "      <th>Generosity</th>\n",
       "      <th>Log of GDP\n",
       "per capita</th>\n",
       "      <th>Healthy life\n",
       "expectancy</th>\n",
       "    </tr>\n",
       "  </thead>\n",
       "  <tbody>\n",
       "    <tr>\n",
       "      <th>0</th>\n",
       "      <td>Finland</td>\n",
       "      <td>1</td>\n",
       "      <td>4</td>\n",
       "      <td>41.0</td>\n",
       "      <td>10.0</td>\n",
       "      <td>2.0</td>\n",
       "      <td>5.0</td>\n",
       "      <td>4.0</td>\n",
       "      <td>47.0</td>\n",
       "      <td>22.0</td>\n",
       "      <td>27.0</td>\n",
       "    </tr>\n",
       "    <tr>\n",
       "      <th>1</th>\n",
       "      <td>Denmark</td>\n",
       "      <td>2</td>\n",
       "      <td>13</td>\n",
       "      <td>24.0</td>\n",
       "      <td>26.0</td>\n",
       "      <td>4.0</td>\n",
       "      <td>6.0</td>\n",
       "      <td>3.0</td>\n",
       "      <td>22.0</td>\n",
       "      <td>14.0</td>\n",
       "      <td>23.0</td>\n",
       "    </tr>\n",
       "    <tr>\n",
       "      <th>2</th>\n",
       "      <td>Norway</td>\n",
       "      <td>3</td>\n",
       "      <td>8</td>\n",
       "      <td>16.0</td>\n",
       "      <td>29.0</td>\n",
       "      <td>3.0</td>\n",
       "      <td>3.0</td>\n",
       "      <td>8.0</td>\n",
       "      <td>11.0</td>\n",
       "      <td>7.0</td>\n",
       "      <td>12.0</td>\n",
       "    </tr>\n",
       "    <tr>\n",
       "      <th>3</th>\n",
       "      <td>Iceland</td>\n",
       "      <td>4</td>\n",
       "      <td>9</td>\n",
       "      <td>3.0</td>\n",
       "      <td>3.0</td>\n",
       "      <td>1.0</td>\n",
       "      <td>7.0</td>\n",
       "      <td>45.0</td>\n",
       "      <td>3.0</td>\n",
       "      <td>15.0</td>\n",
       "      <td>13.0</td>\n",
       "    </tr>\n",
       "    <tr>\n",
       "      <th>4</th>\n",
       "      <td>Netherlands</td>\n",
       "      <td>5</td>\n",
       "      <td>1</td>\n",
       "      <td>12.0</td>\n",
       "      <td>25.0</td>\n",
       "      <td>15.0</td>\n",
       "      <td>19.0</td>\n",
       "      <td>12.0</td>\n",
       "      <td>7.0</td>\n",
       "      <td>12.0</td>\n",
       "      <td>18.0</td>\n",
       "    </tr>\n",
       "  </tbody>\n",
       "</table>\n",
       "</div>"
      ],
      "text/plain": [
       "  Country (region)  Ladder  SD of Ladder  Positive affect  Negative affect  \\\n",
       "0          Finland       1             4             41.0             10.0   \n",
       "1          Denmark       2            13             24.0             26.0   \n",
       "2           Norway       3             8             16.0             29.0   \n",
       "3          Iceland       4             9              3.0              3.0   \n",
       "4      Netherlands       5             1             12.0             25.0   \n",
       "\n",
       "   Social support  Freedom  Corruption  Generosity  Log of GDP\\nper capita  \\\n",
       "0             2.0      5.0         4.0        47.0                    22.0   \n",
       "1             4.0      6.0         3.0        22.0                    14.0   \n",
       "2             3.0      3.0         8.0        11.0                     7.0   \n",
       "3             1.0      7.0        45.0         3.0                    15.0   \n",
       "4            15.0     19.0        12.0         7.0                    12.0   \n",
       "\n",
       "   Healthy life\\nexpectancy  \n",
       "0                      27.0  \n",
       "1                      23.0  \n",
       "2                      12.0  \n",
       "3                      13.0  \n",
       "4                      18.0  "
      ]
     },
     "execution_count": 3,
     "metadata": {},
     "output_type": "execute_result"
    }
   ],
   "source": [
    "data = pd.read_csv('./world-happiness-report-2019.csv')\n",
    "data.head()"
   ]
  },
  {
   "cell_type": "code",
   "execution_count": 5,
   "metadata": {},
   "outputs": [
    {
     "name": "stdout",
     "output_type": "stream",
     "text": [
      "<class 'pandas.core.frame.DataFrame'>\n",
      "RangeIndex: 156 entries, 0 to 155\n",
      "Data columns (total 11 columns):\n",
      "Country (region)           156 non-null object\n",
      "Ladder                     156 non-null int64\n",
      "SD of Ladder               156 non-null int64\n",
      "Positive affect            155 non-null float64\n",
      "Negative affect            155 non-null float64\n",
      "Social support             155 non-null float64\n",
      "Freedom                    155 non-null float64\n",
      "Corruption                 148 non-null float64\n",
      "Generosity                 155 non-null float64\n",
      "Log of GDP\n",
      "per capita      152 non-null float64\n",
      "Healthy life\n",
      "expectancy    150 non-null float64\n",
      "dtypes: float64(8), int64(2), object(1)\n",
      "memory usage: 13.5+ KB\n"
     ]
    }
   ],
   "source": [
    "data.info()"
   ]
  },
  {
   "cell_type": "markdown",
   "metadata": {},
   "source": [
    "### Checking Null values"
   ]
  },
  {
   "cell_type": "code",
   "execution_count": 6,
   "metadata": {},
   "outputs": [
    {
     "data": {
      "text/plain": [
       "Country (region)            0\n",
       "Ladder                      0\n",
       "SD of Ladder                0\n",
       "Positive affect             1\n",
       "Negative affect             1\n",
       "Social support              1\n",
       "Freedom                     1\n",
       "Corruption                  8\n",
       "Generosity                  1\n",
       "Log of GDP\\nper capita      4\n",
       "Healthy life\\nexpectancy    6\n",
       "dtype: int64"
      ]
     },
     "execution_count": 6,
     "metadata": {},
     "output_type": "execute_result"
    }
   ],
   "source": [
    "data.isnull().sum()"
   ]
  },
  {
   "cell_type": "markdown",
   "metadata": {},
   "source": [
    "### Cleaning the data"
   ]
  },
  {
   "cell_type": "markdown",
   "metadata": {},
   "source": [
    "By replacing the current value by previous value."
   ]
  },
  {
   "cell_type": "code",
   "execution_count": 9,
   "metadata": {},
   "outputs": [
    {
     "data": {
      "text/plain": [
       "Country (region)            0\n",
       "Ladder                      0\n",
       "SD of Ladder                0\n",
       "Positive affect             0\n",
       "Negative affect             0\n",
       "Social support              0\n",
       "Freedom                     0\n",
       "Corruption                  0\n",
       "Generosity                  0\n",
       "Log of GDP\\nper capita      0\n",
       "Healthy life\\nexpectancy    0\n",
       "dtype: int64"
      ]
     },
     "execution_count": 9,
     "metadata": {},
     "output_type": "execute_result"
    }
   ],
   "source": [
    "data = data.fillna(method = 'ffill')\n",
    "data.isnull().sum()"
   ]
  },
  {
   "cell_type": "markdown",
   "metadata": {},
   "source": [
    "### Correlation"
   ]
  },
  {
   "cell_type": "code",
   "execution_count": 10,
   "metadata": {
    "scrolled": true
   },
   "outputs": [
    {
     "data": {
      "text/html": [
       "<div>\n",
       "<style scoped>\n",
       "    .dataframe tbody tr th:only-of-type {\n",
       "        vertical-align: middle;\n",
       "    }\n",
       "\n",
       "    .dataframe tbody tr th {\n",
       "        vertical-align: top;\n",
       "    }\n",
       "\n",
       "    .dataframe thead th {\n",
       "        text-align: right;\n",
       "    }\n",
       "</style>\n",
       "<table border=\"1\" class=\"dataframe\">\n",
       "  <thead>\n",
       "    <tr style=\"text-align: right;\">\n",
       "      <th></th>\n",
       "      <th>Ladder</th>\n",
       "      <th>SD of Ladder</th>\n",
       "      <th>Positive affect</th>\n",
       "      <th>Negative affect</th>\n",
       "      <th>Social support</th>\n",
       "      <th>Freedom</th>\n",
       "      <th>Corruption</th>\n",
       "      <th>Generosity</th>\n",
       "      <th>Log of GDP\n",
       "per capita</th>\n",
       "      <th>Healthy life\n",
       "expectancy</th>\n",
       "    </tr>\n",
       "  </thead>\n",
       "  <tbody>\n",
       "    <tr>\n",
       "      <th>Ladder</th>\n",
       "      <td>1.000000</td>\n",
       "      <td>0.539362</td>\n",
       "      <td>0.493430</td>\n",
       "      <td>0.520953</td>\n",
       "      <td>0.816842</td>\n",
       "      <td>0.546134</td>\n",
       "      <td>0.167937</td>\n",
       "      <td>0.495267</td>\n",
       "      <td>0.805525</td>\n",
       "      <td>0.817517</td>\n",
       "    </tr>\n",
       "    <tr>\n",
       "      <th>SD of Ladder</th>\n",
       "      <td>0.539362</td>\n",
       "      <td>1.000000</td>\n",
       "      <td>0.084565</td>\n",
       "      <td>0.619291</td>\n",
       "      <td>0.598782</td>\n",
       "      <td>0.251554</td>\n",
       "      <td>0.229271</td>\n",
       "      <td>0.392205</td>\n",
       "      <td>0.619254</td>\n",
       "      <td>0.612708</td>\n",
       "    </tr>\n",
       "    <tr>\n",
       "      <th>Positive affect</th>\n",
       "      <td>0.493430</td>\n",
       "      <td>0.084565</td>\n",
       "      <td>1.000000</td>\n",
       "      <td>0.388793</td>\n",
       "      <td>0.387075</td>\n",
       "      <td>0.681672</td>\n",
       "      <td>0.187625</td>\n",
       "      <td>0.354021</td>\n",
       "      <td>0.294125</td>\n",
       "      <td>0.331519</td>\n",
       "    </tr>\n",
       "    <tr>\n",
       "      <th>Negative affect</th>\n",
       "      <td>0.520953</td>\n",
       "      <td>0.619291</td>\n",
       "      <td>0.388793</td>\n",
       "      <td>1.000000</td>\n",
       "      <td>0.621412</td>\n",
       "      <td>0.430033</td>\n",
       "      <td>0.133937</td>\n",
       "      <td>0.338260</td>\n",
       "      <td>0.518583</td>\n",
       "      <td>0.498648</td>\n",
       "    </tr>\n",
       "    <tr>\n",
       "      <th>Social support</th>\n",
       "      <td>0.816842</td>\n",
       "      <td>0.598782</td>\n",
       "      <td>0.387075</td>\n",
       "      <td>0.621412</td>\n",
       "      <td>1.000000</td>\n",
       "      <td>0.449159</td>\n",
       "      <td>0.099864</td>\n",
       "      <td>0.442034</td>\n",
       "      <td>0.761414</td>\n",
       "      <td>0.737000</td>\n",
       "    </tr>\n",
       "    <tr>\n",
       "      <th>Freedom</th>\n",
       "      <td>0.546134</td>\n",
       "      <td>0.251554</td>\n",
       "      <td>0.681672</td>\n",
       "      <td>0.430033</td>\n",
       "      <td>0.449159</td>\n",
       "      <td>1.000000</td>\n",
       "      <td>0.336672</td>\n",
       "      <td>0.489772</td>\n",
       "      <td>0.380302</td>\n",
       "      <td>0.413306</td>\n",
       "    </tr>\n",
       "    <tr>\n",
       "      <th>Corruption</th>\n",
       "      <td>0.167937</td>\n",
       "      <td>0.229271</td>\n",
       "      <td>0.187625</td>\n",
       "      <td>0.133937</td>\n",
       "      <td>0.099864</td>\n",
       "      <td>0.336672</td>\n",
       "      <td>1.000000</td>\n",
       "      <td>0.234360</td>\n",
       "      <td>0.145649</td>\n",
       "      <td>0.107871</td>\n",
       "    </tr>\n",
       "    <tr>\n",
       "      <th>Generosity</th>\n",
       "      <td>0.495267</td>\n",
       "      <td>0.392205</td>\n",
       "      <td>0.354021</td>\n",
       "      <td>0.338260</td>\n",
       "      <td>0.442034</td>\n",
       "      <td>0.489772</td>\n",
       "      <td>0.234360</td>\n",
       "      <td>1.000000</td>\n",
       "      <td>0.472584</td>\n",
       "      <td>0.443207</td>\n",
       "    </tr>\n",
       "    <tr>\n",
       "      <th>Log of GDP\\nper capita</th>\n",
       "      <td>0.805525</td>\n",
       "      <td>0.619254</td>\n",
       "      <td>0.294125</td>\n",
       "      <td>0.518583</td>\n",
       "      <td>0.761414</td>\n",
       "      <td>0.380302</td>\n",
       "      <td>0.145649</td>\n",
       "      <td>0.472584</td>\n",
       "      <td>1.000000</td>\n",
       "      <td>0.842964</td>\n",
       "    </tr>\n",
       "    <tr>\n",
       "      <th>Healthy life\\nexpectancy</th>\n",
       "      <td>0.817517</td>\n",
       "      <td>0.612708</td>\n",
       "      <td>0.331519</td>\n",
       "      <td>0.498648</td>\n",
       "      <td>0.737000</td>\n",
       "      <td>0.413306</td>\n",
       "      <td>0.107871</td>\n",
       "      <td>0.443207</td>\n",
       "      <td>0.842964</td>\n",
       "      <td>1.000000</td>\n",
       "    </tr>\n",
       "  </tbody>\n",
       "</table>\n",
       "</div>"
      ],
      "text/plain": [
       "                            Ladder  SD of Ladder  Positive affect  \\\n",
       "Ladder                    1.000000      0.539362         0.493430   \n",
       "SD of Ladder              0.539362      1.000000         0.084565   \n",
       "Positive affect           0.493430      0.084565         1.000000   \n",
       "Negative affect           0.520953      0.619291         0.388793   \n",
       "Social support            0.816842      0.598782         0.387075   \n",
       "Freedom                   0.546134      0.251554         0.681672   \n",
       "Corruption                0.167937      0.229271         0.187625   \n",
       "Generosity                0.495267      0.392205         0.354021   \n",
       "Log of GDP\\nper capita    0.805525      0.619254         0.294125   \n",
       "Healthy life\\nexpectancy  0.817517      0.612708         0.331519   \n",
       "\n",
       "                          Negative affect  Social support   Freedom  \\\n",
       "Ladder                           0.520953        0.816842  0.546134   \n",
       "SD of Ladder                     0.619291        0.598782  0.251554   \n",
       "Positive affect                  0.388793        0.387075  0.681672   \n",
       "Negative affect                  1.000000        0.621412  0.430033   \n",
       "Social support                   0.621412        1.000000  0.449159   \n",
       "Freedom                          0.430033        0.449159  1.000000   \n",
       "Corruption                       0.133937        0.099864  0.336672   \n",
       "Generosity                       0.338260        0.442034  0.489772   \n",
       "Log of GDP\\nper capita           0.518583        0.761414  0.380302   \n",
       "Healthy life\\nexpectancy         0.498648        0.737000  0.413306   \n",
       "\n",
       "                          Corruption  Generosity  Log of GDP\\nper capita  \\\n",
       "Ladder                      0.167937    0.495267                0.805525   \n",
       "SD of Ladder                0.229271    0.392205                0.619254   \n",
       "Positive affect             0.187625    0.354021                0.294125   \n",
       "Negative affect             0.133937    0.338260                0.518583   \n",
       "Social support              0.099864    0.442034                0.761414   \n",
       "Freedom                     0.336672    0.489772                0.380302   \n",
       "Corruption                  1.000000    0.234360                0.145649   \n",
       "Generosity                  0.234360    1.000000                0.472584   \n",
       "Log of GDP\\nper capita      0.145649    0.472584                1.000000   \n",
       "Healthy life\\nexpectancy    0.107871    0.443207                0.842964   \n",
       "\n",
       "                          Healthy life\\nexpectancy  \n",
       "Ladder                                    0.817517  \n",
       "SD of Ladder                              0.612708  \n",
       "Positive affect                           0.331519  \n",
       "Negative affect                           0.498648  \n",
       "Social support                            0.737000  \n",
       "Freedom                                   0.413306  \n",
       "Corruption                                0.107871  \n",
       "Generosity                                0.443207  \n",
       "Log of GDP\\nper capita                    0.842964  \n",
       "Healthy life\\nexpectancy                  1.000000  "
      ]
     },
     "execution_count": 10,
     "metadata": {},
     "output_type": "execute_result"
    }
   ],
   "source": [
    "data.corr()"
   ]
  },
  {
   "cell_type": "markdown",
   "metadata": {},
   "source": [
    "### Plotting correlation heatmap using Seaborn"
   ]
  },
  {
   "cell_type": "code",
   "execution_count": 13,
   "metadata": {},
   "outputs": [
    {
     "data": {
      "text/plain": [
       "<matplotlib.axes._subplots.AxesSubplot at 0x7f21b0385f98>"
      ]
     },
     "execution_count": 13,
     "metadata": {},
     "output_type": "execute_result"
    },
    {
     "data": {
      "image/png": "[encoded data removed]",
      "text/plain": [
       "<Figure size 432x288 with 2 Axes>"
      ]
     },
     "metadata": {
      "needs_background": "light"
     },
     "output_type": "display_data"
    }
   ],
   "source": [
    "sns.heatmap(data.corr(), annot=True)"
   ]
  },
  {
   "cell_type": "markdown",
   "metadata": {},
   "source": [
    "### Observation\n",
    "\n",
    "We could see that \n",
    "- _Social Support_ and _Ladder_ are highly correlated\n",
    "- _Log of GDP_ and _Ladder_ are highly correlated\n",
    "- _Healthy life expectancy_ and _Ladder_ are highly correlated\n",
    "\n",
    "So we could say that, it's _Social Support_, _Log of GDP_ and _Healtyh life expectancy_, which drives\n",
    "the Worlf Happiness forward"
   ]
  }
 ],
 "metadata": {
  "kernelspec": {
   "display_name": "Python 3",
   "language": "python",
   "name": "python3"
  },
  "language_info": {
   "codemirror_mode": {
    "name": "ipython",
    "version": 3
   },
   "file_extension": ".py",
   "mimetype": "text/x-python",
   "name": "python",
   "nbconvert_exporter": "python",
   "pygments_lexer": "ipython3",
   "version": "3.7.3"
  }
 },
 "nbformat": 4,
 "nbformat_minor": 2
}
