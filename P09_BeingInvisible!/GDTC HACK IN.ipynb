{
 "cells": [
  {
   "cell_type": "markdown",
   "metadata": {},
   "source": [
    "# # Invisible Cloak using OpenCV"
   ]
  },
  {
   "cell_type": "markdown",
   "metadata": {},
   "source": [
    "#Importing the necessary packages "
   ]
  },
  {
   "cell_type": "code",
   "execution_count": 2,
   "metadata": {},
   "outputs": [],
   "source": [
    "import time\n",
    "import cv2\n",
    "import numpy as np"
   ]
  },
  {
   "cell_type": "markdown",
   "metadata": {},
   "source": []
  },
  {
   "cell_type": "code",
   "execution_count": 3,
   "metadata": {},
   "outputs": [],
   "source": [
    "capture_the_screen = cv2.VideoCapture(0)\n",
    "time.sleep(3)\n",
    "iterator = 0\n",
    "detecting_back = 0\n",
    "for i in range(60):\n",
    "    scaned,detecting_back = capture_the_screen.read()\n",
    "detecting_back = np.flip(detecting_back,axis=1)\n",
    "while(capture_the_screen.isOpened()):\n",
    "    scaned, captured_image = capture_the_screen.read()\n",
    "    if not scaned:\n",
    "        break\n",
    "    iterator+=1\n",
    "    captured_image = np.flip(captured_image,axis=1)\n",
    "    hsv = cv2.cvtColor(captured_image, cv2.COLOR_BGR2HSV)\n",
    "    lower_red = np.array([110,50,50])\n",
    "    upper_red = np.array([120,255,255])\n",
    "    masking_1 = cv2.inRange(hsv,lower_red,upper_red)\n",
    "\n",
    "    lower_red = np.array([120,50,50])\n",
    "    upper_red = np.array([130,255,255])\n",
    "    masking_2 = cv2.inRange(hsv,lower_red,upper_red)\n",
    "\n",
    "    masking_1 = masking_1+masking_2\n",
    "    masking_1 = cv2.morphologyEx(masking_1, cv2.MORPH_OPEN, np.ones((3,3),np.uint8),iterations=2)\n",
    "    masking_1 = cv2.dilate(masking_1,np.ones((3,3),np.uint8),iterations = 1)\n",
    "    masking_2 = cv2.bitwise_not(masking_1)\n",
    "    restitute1 = cv2.bitwise_and(detecting_back,detecting_back,mask=masking_1)\n",
    "    restitute2 = cv2.bitwise_and(captured_image,captured_image,mask=masking_2)\n",
    "    invisible_image = cv2.addWeighted(restitute1,1,restitute2,1,0)\n",
    "\n",
    "    cv2.imshow(\"Raghav Dhingra\",invisible_image)\n",
    "    k = cv2.waitKey(10)\n",
    "    if k == 27:\n",
    "        break"
   ]
  },
  {
   "cell_type": "code",
   "execution_count": null,
   "metadata": {},
   "outputs": [],
   "source": []
  },
  {
   "cell_type": "code",
   "execution_count": null,
   "metadata": {},
   "outputs": [],
   "source": []
  }
 ],
 "metadata": {
  "kernelspec": {
   "display_name": "Python 3",
   "language": "python",
   "name": "python3"
  },
  "language_info": {
   "codemirror_mode": {
    "name": "ipython",
    "version": 3
   },
   "file_extension": ".py",
   "mimetype": "text/x-python",
   "name": "python",
   "nbconvert_exporter": "python",
   "pygments_lexer": "ipython3",
   "version": "3.7.0"
  }
 },
 "nbformat": 4,
 "nbformat_minor": 2
}
