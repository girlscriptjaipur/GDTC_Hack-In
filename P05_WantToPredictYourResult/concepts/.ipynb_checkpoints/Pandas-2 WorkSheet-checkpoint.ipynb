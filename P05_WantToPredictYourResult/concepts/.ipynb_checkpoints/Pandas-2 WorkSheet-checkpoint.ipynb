{
 "cells": [
  {
   "cell_type": "code",
   "execution_count": 1,
   "metadata": {},
   "outputs": [],
   "source": [
    "import numpy as np\n",
    "import pandas as pd"
   ]
  },
  {
   "cell_type": "code",
   "execution_count": 2,
   "metadata": {},
   "outputs": [],
   "source": [
    "df = pd.read_csv(\"../csv_files/firstsem_cse.csv\")"
   ]
  },
  {
   "cell_type": "code",
   "execution_count": 3,
   "metadata": {},
   "outputs": [
    {
     "data": {
      "text/html": [
       "<div>\n",
       "<style scoped>\n",
       "    .dataframe tbody tr th:only-of-type {\n",
       "        vertical-align: middle;\n",
       "    }\n",
       "\n",
       "    .dataframe tbody tr th {\n",
       "        vertical-align: top;\n",
       "    }\n",
       "\n",
       "    .dataframe thead th {\n",
       "        text-align: right;\n",
       "    }\n",
       "</style>\n",
       "<table border=\"1\" class=\"dataframe\">\n",
       "  <thead>\n",
       "    <tr style=\"text-align: right;\">\n",
       "      <th></th>\n",
       "      <th>Student Name</th>\n",
       "      <th>EnrollMent No</th>\n",
       "      <th>SID</th>\n",
       "      <th>Scheme ID</th>\n",
       "      <th>AM-1 Internal</th>\n",
       "      <th>AM-1 External</th>\n",
       "      <th>AP-1 Internal</th>\n",
       "      <th>AP-1 External</th>\n",
       "      <th>MP Internal</th>\n",
       "      <th>MP External</th>\n",
       "      <th>...</th>\n",
       "      <th>ET LAB External</th>\n",
       "      <th>MP LAB Internal</th>\n",
       "      <th>MP LAB External</th>\n",
       "      <th>FOC LAB Internal</th>\n",
       "      <th>FOC LAB External</th>\n",
       "      <th>ED LAB Internal</th>\n",
       "      <th>ED LAB External</th>\n",
       "      <th>AC LAB Internal</th>\n",
       "      <th>AC LAB External</th>\n",
       "      <th>Total Credits</th>\n",
       "    </tr>\n",
       "  </thead>\n",
       "  <tbody>\n",
       "    <tr>\n",
       "      <th>0</th>\n",
       "      <td>ABHISHEK</td>\n",
       "      <td>110102717</td>\n",
       "      <td>SID: 190000099690</td>\n",
       "      <td>SchemeID: 190272015001</td>\n",
       "      <td>17</td>\n",
       "      <td>35</td>\n",
       "      <td>24</td>\n",
       "      <td>50</td>\n",
       "      <td>25</td>\n",
       "      <td>30</td>\n",
       "      <td>...</td>\n",
       "      <td>53</td>\n",
       "      <td>36</td>\n",
       "      <td>40</td>\n",
       "      <td>36</td>\n",
       "      <td>45</td>\n",
       "      <td>30</td>\n",
       "      <td>45</td>\n",
       "      <td>37</td>\n",
       "      <td>56</td>\n",
       "      <td>27</td>\n",
       "    </tr>\n",
       "    <tr>\n",
       "      <th>1</th>\n",
       "      <td>ABHISHEK KUMAR VERMA</td>\n",
       "      <td>210102717</td>\n",
       "      <td>SID: 190000099691</td>\n",
       "      <td>SchemeID: 190272015001</td>\n",
       "      <td>17</td>\n",
       "      <td>57</td>\n",
       "      <td>23</td>\n",
       "      <td>64</td>\n",
       "      <td>22</td>\n",
       "      <td>47</td>\n",
       "      <td>...</td>\n",
       "      <td>48</td>\n",
       "      <td>38</td>\n",
       "      <td>45</td>\n",
       "      <td>36</td>\n",
       "      <td>47</td>\n",
       "      <td>34</td>\n",
       "      <td>55</td>\n",
       "      <td>39</td>\n",
       "      <td>58</td>\n",
       "      <td>27</td>\n",
       "    </tr>\n",
       "    <tr>\n",
       "      <th>2</th>\n",
       "      <td>ANJALI</td>\n",
       "      <td>510102717</td>\n",
       "      <td>SID: 190000099812</td>\n",
       "      <td>SchemeID: 190272015001</td>\n",
       "      <td>15</td>\n",
       "      <td>50</td>\n",
       "      <td>19</td>\n",
       "      <td>59</td>\n",
       "      <td>17</td>\n",
       "      <td>38</td>\n",
       "      <td>...</td>\n",
       "      <td>40</td>\n",
       "      <td>35</td>\n",
       "      <td>43</td>\n",
       "      <td>31</td>\n",
       "      <td>47</td>\n",
       "      <td>27</td>\n",
       "      <td>36</td>\n",
       "      <td>35</td>\n",
       "      <td>53</td>\n",
       "      <td>27</td>\n",
       "    </tr>\n",
       "    <tr>\n",
       "      <th>3</th>\n",
       "      <td>ANOOP PARASHAR</td>\n",
       "      <td>610102717</td>\n",
       "      <td>SID: 190000099813</td>\n",
       "      <td>SchemeID: 190272015001</td>\n",
       "      <td>9</td>\n",
       "      <td>31</td>\n",
       "      <td>18</td>\n",
       "      <td>31</td>\n",
       "      <td>20</td>\n",
       "      <td>46</td>\n",
       "      <td>...</td>\n",
       "      <td>40</td>\n",
       "      <td>36</td>\n",
       "      <td>46</td>\n",
       "      <td>36</td>\n",
       "      <td>45</td>\n",
       "      <td>32</td>\n",
       "      <td>37</td>\n",
       "      <td>29</td>\n",
       "      <td>46</td>\n",
       "      <td>27</td>\n",
       "    </tr>\n",
       "    <tr>\n",
       "      <th>4</th>\n",
       "      <td>ARSHWIN KUMAR</td>\n",
       "      <td>710102717</td>\n",
       "      <td>SID: 190000099814</td>\n",
       "      <td>SchemeID: 190272015001</td>\n",
       "      <td>17</td>\n",
       "      <td>28</td>\n",
       "      <td>25</td>\n",
       "      <td>42</td>\n",
       "      <td>22</td>\n",
       "      <td>49</td>\n",
       "      <td>...</td>\n",
       "      <td>48</td>\n",
       "      <td>38</td>\n",
       "      <td>35</td>\n",
       "      <td>31</td>\n",
       "      <td>45</td>\n",
       "      <td>30</td>\n",
       "      <td>32</td>\n",
       "      <td>33</td>\n",
       "      <td>50</td>\n",
       "      <td>27</td>\n",
       "    </tr>\n",
       "  </tbody>\n",
       "</table>\n",
       "<p>5 rows × 30 columns</p>\n",
       "</div>"
      ],
      "text/plain": [
       "           Student Name  EnrollMent No                SID  \\\n",
       "0              ABHISHEK      110102717  SID: 190000099690   \n",
       "1  ABHISHEK KUMAR VERMA      210102717  SID: 190000099691   \n",
       "2                ANJALI      510102717  SID: 190000099812   \n",
       "3        ANOOP PARASHAR      610102717  SID: 190000099813   \n",
       "4         ARSHWIN KUMAR      710102717  SID: 190000099814   \n",
       "\n",
       "                Scheme ID  AM-1 Internal  AM-1 External  AP-1 Internal  \\\n",
       "0  SchemeID: 190272015001             17             35             24   \n",
       "1  SchemeID: 190272015001             17             57             23   \n",
       "2  SchemeID: 190272015001             15             50             19   \n",
       "3  SchemeID: 190272015001              9             31             18   \n",
       "4  SchemeID: 190272015001             17             28             25   \n",
       "\n",
       "   AP-1 External  MP Internal  MP External  ...  ET LAB External  \\\n",
       "0             50           25           30  ...               53   \n",
       "1             64           22           47  ...               48   \n",
       "2             59           17           38  ...               40   \n",
       "3             31           20           46  ...               40   \n",
       "4             42           22           49  ...               48   \n",
       "\n",
       "   MP LAB Internal  MP LAB External  FOC LAB Internal  FOC LAB External  \\\n",
       "0               36               40                36                45   \n",
       "1               38               45                36                47   \n",
       "2               35               43                31                47   \n",
       "3               36               46                36                45   \n",
       "4               38               35                31                45   \n",
       "\n",
       "   ED LAB Internal  ED LAB External  AC LAB Internal  AC LAB External  \\\n",
       "0               30               45               37               56   \n",
       "1               34               55               39               58   \n",
       "2               27               36               35               53   \n",
       "3               32               37               29               46   \n",
       "4               30               32               33               50   \n",
       "\n",
       "   Total Credits  \n",
       "0             27  \n",
       "1             27  \n",
       "2             27  \n",
       "3             27  \n",
       "4             27  \n",
       "\n",
       "[5 rows x 30 columns]"
      ]
     },
     "execution_count": 3,
     "metadata": {},
     "output_type": "execute_result"
    }
   ],
   "source": [
    "df.head()"
   ]
  },
  {
   "cell_type": "markdown",
   "metadata": {},
   "source": [
    "### __Set The Column Student Name as the Index__"
   ]
  },
  {
   "cell_type": "code",
   "execution_count": null,
   "metadata": {},
   "outputs": [],
   "source": []
  },
  {
   "cell_type": "code",
   "execution_count": null,
   "metadata": {},
   "outputs": [],
   "source": []
  },
  {
   "cell_type": "code",
   "execution_count": null,
   "metadata": {},
   "outputs": [],
   "source": []
  },
  {
   "cell_type": "markdown",
   "metadata": {},
   "source": [
    "### __Drop the Enrollment No, Columns SID,Scheme ID, ALL LAB SUBJECTS (LAB IN THEIR NAME) and Total Credits from the DataFrame df__\n",
    "Don't make new dataset save it to df as we have to do more operations that is dependent over it(If stuck better ask in the group)"
   ]
  },
  {
   "cell_type": "code",
   "execution_count": null,
   "metadata": {},
   "outputs": [],
   "source": []
  },
  {
   "cell_type": "code",
   "execution_count": null,
   "metadata": {},
   "outputs": [],
   "source": []
  },
  {
   "cell_type": "code",
   "execution_count": null,
   "metadata": {},
   "outputs": [],
   "source": []
  },
  {
   "cell_type": "markdown",
   "metadata": {},
   "source": [
    "### __Add a Column Name Total Marks which will have total marks of each row (Summation of all marks obtained)__"
   ]
  },
  {
   "cell_type": "code",
   "execution_count": null,
   "metadata": {},
   "outputs": [],
   "source": []
  },
  {
   "cell_type": "code",
   "execution_count": null,
   "metadata": {},
   "outputs": [],
   "source": []
  },
  {
   "cell_type": "code",
   "execution_count": null,
   "metadata": {},
   "outputs": [],
   "source": []
  },
  {
   "cell_type": "markdown",
   "metadata": {},
   "source": [
    "### __Combine all the columns__\n",
    "* Combine Columns of External and Internal Marks into one i.e AM-1 Internal and AM-1 External must be added and stored to another column named AM-1 Total(drop the AM-1 Internal and AM-1 External After that). Use any of the technique you like and do the same for all the subjects.\n",
    "\n",
    "** __ATTENTION__ **\n",
    "* A subject named HVPE doesn't have internal marks.\n",
    "\n",
    "\n",
    "__Dataframe after this step must look like__\n",
    "\n",
    "| Student Name |AM-1 Total|AM-1 Total|AP-1 Total|MP Total|ET Total|HVPE Total| FOC Total|AC Total|Total Marks|\n",
    "|------|------|------|------|------|------|------|------|------|--|\n"
   ]
  },
  {
   "cell_type": "code",
   "execution_count": null,
   "metadata": {},
   "outputs": [],
   "source": []
  },
  {
   "cell_type": "code",
   "execution_count": null,
   "metadata": {},
   "outputs": [],
   "source": []
  },
  {
   "cell_type": "code",
   "execution_count": null,
   "metadata": {},
   "outputs": [],
   "source": []
  },
  {
   "cell_type": "code",
   "execution_count": null,
   "metadata": {},
   "outputs": [],
   "source": []
  },
  {
   "cell_type": "code",
   "execution_count": null,
   "metadata": {},
   "outputs": [],
   "source": []
  },
  {
   "cell_type": "markdown",
   "metadata": {},
   "source": [
    "### __Find Mean Marks of All the subjects.__"
   ]
  },
  {
   "cell_type": "code",
   "execution_count": null,
   "metadata": {},
   "outputs": [],
   "source": []
  },
  {
   "cell_type": "code",
   "execution_count": null,
   "metadata": {},
   "outputs": [],
   "source": []
  },
  {
   "cell_type": "code",
   "execution_count": null,
   "metadata": {},
   "outputs": [],
   "source": []
  },
  {
   "cell_type": "markdown",
   "metadata": {},
   "source": [
    "### __Find Variance and Standard Deviation for each Subject and tell me what does it mean?__"
   ]
  },
  {
   "cell_type": "code",
   "execution_count": null,
   "metadata": {},
   "outputs": [],
   "source": []
  }
 ],
 "metadata": {
  "kernelspec": {
   "display_name": "Python 3",
   "language": "python",
   "name": "python3"
  },
  "language_info": {
   "codemirror_mode": {
    "name": "ipython",
    "version": 3
   },
   "file_extension": ".py",
   "mimetype": "text/x-python",
   "name": "python",
   "nbconvert_exporter": "python",
   "pygments_lexer": "ipython3",
   "version": "3.7.3"
  }
 },
 "nbformat": 4,
 "nbformat_minor": 2
}
