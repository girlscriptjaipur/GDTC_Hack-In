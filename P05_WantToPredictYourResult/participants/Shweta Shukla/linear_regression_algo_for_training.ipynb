{
 "cells": [
  {
   "cell_type": "markdown",
   "metadata": {},
   "source": [
    "# Linear Regression"
   ]
  },
  {
   "cell_type": "code",
   "execution_count": 1,
   "metadata": {},
   "outputs": [],
   "source": [
    "import numpy as np\n",
    "import matplotlib.pyplot as plt\n",
    "import pandas as pd"
   ]
  },
  {
   "cell_type": "markdown",
   "metadata": {},
   "source": [
    "# get the training data from csv file"
   ]
  },
  {
   "cell_type": "code",
   "execution_count": 2,
   "metadata": {},
   "outputs": [
    {
     "name": "stdout",
     "output_type": "stream",
     "text": [
      "(3750, 1)\n",
      "(3750, 1)\n"
     ]
    }
   ],
   "source": [
    "dfx = pd.read_csv('Dataset/Linear_X_Train.csv')\n",
    "dfy = pd.read_csv('Dataset/Linear_Y_Train.csv')\n",
    "\n",
    "x = dfx.values\n",
    "y = dfy.values\n",
    "\n",
    "print(x.shape)\n",
    "print(y.shape)"
   ]
  },
  {
   "cell_type": "code",
   "execution_count": 3,
   "metadata": {},
   "outputs": [
    {
     "data": {
      "image/png": "[encoded data removed]",
      "text/plain": [
       "<Figure size 432x288 with 1 Axes>"
      ]
     },
     "metadata": {
      "needs_background": "light"
     },
     "output_type": "display_data"
    }
   ],
   "source": [
    "plt.scatter(x,y)\n",
    "plt.show()"
   ]
  },
  {
   "cell_type": "code",
   "execution_count": 4,
   "metadata": {},
   "outputs": [],
   "source": [
    "#plt.scatter(x , y)"
   ]
  },
  {
   "cell_type": "markdown",
   "metadata": {},
   "source": [
    "# gradient descent Algorithm\n",
    "-start with random theta\n",
    "-repeat untill convergence\n",
    "-update theta accoe=rding to the rule"
   ]
  },
  {
   "cell_type": "code",
   "execution_count": 5,
   "metadata": {},
   "outputs": [],
   "source": [
    "def hypothesis( x , theta):\n",
    "    return theta[0] + theta[1]*x\n",
    "\n",
    "def error( X , Y , theta):\n",
    "    m = X.shape[0]\n",
    "    err=0\n",
    "    for i in range(m):\n",
    "        hx = hypothesis(X[i] , theta)\n",
    "        err = err +(hx - Y[i])**2\n",
    "    return err\n",
    " \n",
    "    \n",
    "def grade(X , Y, theta):\n",
    "    \n",
    "    grad = np.zeros((2,))\n",
    "    m=X.shape[0]\n",
    "    \n",
    "    for i in range(m):\n",
    "        hx   = hypothesis(X[i] , theta)\n",
    "        grad[0] += (hx - Y[i])\n",
    "        grad[1] += (hx-Y[i])*X[i]\n",
    "        \n",
    "    return grad\n",
    "    \n",
    "\n",
    "\n",
    "#main alogrithm\n",
    "def grad_descent(X , Y , learning_rate=0.0001):\n",
    "    \n",
    "    theta = np.zeros((2,))\n",
    "    \n",
    "    itr = 0\n",
    "    max_itr =50\n",
    "    error_list =[]\n",
    "    for itr in range(max_itr):\n",
    "          \n",
    "        grad = grade(x , Y , theta)\n",
    "        e = error(X , Y , theta)\n",
    "        error_list.append(e)\n",
    "        theta[0] = theta[0] - learning_rate * grad[0]\n",
    "        theta[1] = theta[1] - learning_rate * grad[1]\n",
    "        \n",
    "    return theta , error_list    \n",
    "    \n",
    "    \n",
    "    \n",
    "    "
   ]
  },
  {
   "cell_type": "code",
   "execution_count": 8,
   "metadata": {},
   "outputs": [],
   "source": [
    "final_theta ,error_list = grad_descent(x , y )"
   ]
  },
  {
   "cell_type": "code",
   "execution_count": 9,
   "metadata": {},
   "outputs": [
    {
     "data": {
      "image/png": "[encoded data removed]",
      "text/plain": [
       "<Figure size 432x288 with 1 Axes>"
      ]
     },
     "metadata": {
      "needs_background": "light"
     },
     "output_type": "display_data"
    }
   ],
   "source": [
    "plt.plot(error_list)\n",
    "plt.show()"
   ]
  },
  {
   "cell_type": "code",
   "execution_count": 10,
   "metadata": {},
   "outputs": [],
   "source": [
    "test_X = pd.read_csv('Dataset/Linear_X_Test.csv')"
   ]
  },
  {
   "cell_type": "code",
   "execution_count": 11,
   "metadata": {},
   "outputs": [
    {
     "name": "stdout",
     "output_type": "stream",
     "text": [
      "               x\n",
      "0    -147.528475\n",
      "1     -66.266998\n",
      "2    -200.062093\n",
      "3     226.044960\n",
      "4      51.329285\n",
      "5    -100.624379\n",
      "6     -12.125254\n",
      "7      27.252959\n",
      "8     -62.454159\n",
      "9    -117.213618\n",
      "10    -10.669528\n",
      "11      9.542993\n",
      "12    -36.916575\n",
      "13     68.254643\n",
      "14     11.652051\n",
      "15     -9.450807\n",
      "16     26.494476\n",
      "17    107.726360\n",
      "18    177.226579\n",
      "19     23.095251\n",
      "20    -31.079395\n",
      "21     22.188860\n",
      "22    -52.495101\n",
      "23   -147.007525\n",
      "24     69.547784\n",
      "25    110.116695\n",
      "26    155.291369\n",
      "27     11.834716\n",
      "28     34.648178\n",
      "29    -91.994879\n",
      "...          ...\n",
      "1220  -12.766261\n",
      "1221   34.362936\n",
      "1222   63.750793\n",
      "1223   39.835226\n",
      "1224  -90.398206\n",
      "1225 -101.816274\n",
      "1226   63.744913\n",
      "1227 -101.360047\n",
      "1228   56.629543\n",
      "1229  -80.200999\n",
      "1230  -85.745676\n",
      "1231   25.355904\n",
      "1232  -97.162094\n",
      "1233   -0.252791\n",
      "1234  -34.840085\n",
      "1235  -71.236201\n",
      "1236  -36.372666\n",
      "1237  -25.176892\n",
      "1238   91.532399\n",
      "1239   76.163973\n",
      "1240   -9.624295\n",
      "1241   -0.818951\n",
      "1242   89.246621\n",
      "1243   31.688955\n",
      "1244  -72.733128\n",
      "1245   -9.808053\n",
      "1246   78.812578\n",
      "1247   14.038203\n",
      "1248  -18.666169\n",
      "1249  -51.075947\n",
      "\n",
      "[1250 rows x 1 columns]\n"
     ]
    }
   ],
   "source": [
    "test_Y = final_theta[0] + final_theta[1]*test_X\n",
    "print(test_Y)"
   ]
  },
  {
   "cell_type": "code",
   "execution_count": 12,
   "metadata": {},
   "outputs": [],
   "source": [
    "test_Y = np.array(test_Y)\n",
    "#print(test_Y)"
   ]
  },
  {
   "cell_type": "code",
   "execution_count": 13,
   "metadata": {},
   "outputs": [],
   "source": [
    "n = pd.DataFrame(data= test_Y ,columns=[\"y\"])\n",
    "n.to_csv('output.csv' , index = False)"
   ]
  },
  {
   "cell_type": "code",
   "execution_count": null,
   "metadata": {},
   "outputs": [],
   "source": []
  },
  {
   "cell_type": "code",
   "execution_count": null,
   "metadata": {},
   "outputs": [],
   "source": []
  }
 ],
 "metadata": {
  "kernelspec": {
   "display_name": "Python 3",
   "language": "python",
   "name": "python3"
  },
  "language_info": {
   "codemirror_mode": {
    "name": "ipython",
    "version": 3
   },
   "file_extension": ".py",
   "mimetype": "text/x-python",
   "name": "python",
   "nbconvert_exporter": "python",
   "pygments_lexer": "ipython3",
   "version": "3.7.3"
  }
 },
 "nbformat": 4,
 "nbformat_minor": 2
}
