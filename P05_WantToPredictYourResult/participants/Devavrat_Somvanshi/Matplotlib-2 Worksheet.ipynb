{
 "cells": [
  {
   "cell_type": "code",
   "execution_count": 1,
   "metadata": {},
   "outputs": [],
   "source": [
    "import numpy as np\n",
    "import pandas as pd\n",
    "import matplotlib.pyplot as plt"
   ]
  },
  {
   "cell_type": "code",
   "execution_count": 2,
   "metadata": {},
   "outputs": [],
   "source": [
    "df = pd.read_excel('https://query.data.world/s/bqrnga7n5nhps5yn5cbiarzdbqv2os')"
   ]
  },
  {
   "cell_type": "code",
   "execution_count": 3,
   "metadata": {},
   "outputs": [
    {
     "data": {
      "text/html": [
       "<div>\n",
       "<style scoped>\n",
       "    .dataframe tbody tr th:only-of-type {\n",
       "        vertical-align: middle;\n",
       "    }\n",
       "\n",
       "    .dataframe tbody tr th {\n",
       "        vertical-align: top;\n",
       "    }\n",
       "\n",
       "    .dataframe thead th {\n",
       "        text-align: right;\n",
       "    }\n",
       "</style>\n",
       "<table border=\"1\" class=\"dataframe\">\n",
       "  <thead>\n",
       "    <tr style=\"text-align: right;\">\n",
       "      <th></th>\n",
       "      <th>Party</th>\n",
       "      <th>Name</th>\n",
       "      <th>Type</th>\n",
       "      <th>Address</th>\n",
       "      <th>PAN Given</th>\n",
       "      <th>Amount</th>\n",
       "      <th>Contribution Mode</th>\n",
       "      <th>Financial Year</th>\n",
       "      <th>Unnamed: 8</th>\n",
       "      <th>Unnamed: 9</th>\n",
       "      <th>Unnamed: 10</th>\n",
       "      <th>Unnamed: 11</th>\n",
       "      <th>Unnamed: 12</th>\n",
       "      <th>Unnamed: 13</th>\n",
       "    </tr>\n",
       "  </thead>\n",
       "  <tbody>\n",
       "    <tr>\n",
       "      <th>0</th>\n",
       "      <td>CPI</td>\n",
       "      <td>Aziz Pasha</td>\n",
       "      <td>Others</td>\n",
       "      <td>16-B, Ferozeshah Road New Delhi-1</td>\n",
       "      <td>Y</td>\n",
       "      <td>3000000</td>\n",
       "      <td>CASH</td>\n",
       "      <td>2010-11</td>\n",
       "      <td>NaN</td>\n",
       "      <td>NaN</td>\n",
       "      <td>NaN</td>\n",
       "      <td>NaN</td>\n",
       "      <td>NaN</td>\n",
       "      <td>NaN</td>\n",
       "    </tr>\n",
       "    <tr>\n",
       "      <th>1</th>\n",
       "      <td>CPI(M)</td>\n",
       "      <td>V K Ramachandran</td>\n",
       "      <td>Others</td>\n",
       "      <td>No.1, First Floor Main Road Domlur Second Stag...</td>\n",
       "      <td>Y</td>\n",
       "      <td>10000000</td>\n",
       "      <td>000037, HDFC Bank Bengaluru, Dt. 16.03.2015, 5...</td>\n",
       "      <td>2014-15</td>\n",
       "      <td>NaN</td>\n",
       "      <td>NaN</td>\n",
       "      <td>NaN</td>\n",
       "      <td>NaN</td>\n",
       "      <td>NaN</td>\n",
       "      <td>NaN</td>\n",
       "    </tr>\n",
       "    <tr>\n",
       "      <th>2</th>\n",
       "      <td>INC</td>\n",
       "      <td>Dr. Manmohan Singh</td>\n",
       "      <td>Others</td>\n",
       "      <td>3, Motilal Nehru Place New Delhi</td>\n",
       "      <td>N</td>\n",
       "      <td>108000</td>\n",
       "      <td>Cheque, State Bank of India Parliament House N...</td>\n",
       "      <td>2014-15</td>\n",
       "      <td>NaN</td>\n",
       "      <td>NaN</td>\n",
       "      <td>NaN</td>\n",
       "      <td>NaN</td>\n",
       "      <td>NaN</td>\n",
       "      <td>NaN</td>\n",
       "    </tr>\n",
       "    <tr>\n",
       "      <th>3</th>\n",
       "      <td>INC</td>\n",
       "      <td>Dr. Manda Jagnathan</td>\n",
       "      <td>Others</td>\n",
       "      <td>9,Firozshah Road New Delhi</td>\n",
       "      <td>N</td>\n",
       "      <td>54000</td>\n",
       "      <td>Through Bank Transfer</td>\n",
       "      <td>2011-12</td>\n",
       "      <td>NaN</td>\n",
       "      <td>NaN</td>\n",
       "      <td>NaN</td>\n",
       "      <td>NaN</td>\n",
       "      <td>NaN</td>\n",
       "      <td>NaN</td>\n",
       "    </tr>\n",
       "    <tr>\n",
       "      <th>4</th>\n",
       "      <td>INC</td>\n",
       "      <td>Prof. K.V.Thomas</td>\n",
       "      <td>Others</td>\n",
       "      <td>17,Dr.B.R.Mehta Lane New Delhi</td>\n",
       "      <td>N</td>\n",
       "      <td>54000</td>\n",
       "      <td>Through Bank Transfer</td>\n",
       "      <td>2011-12</td>\n",
       "      <td>NaN</td>\n",
       "      <td>NaN</td>\n",
       "      <td>NaN</td>\n",
       "      <td>NaN</td>\n",
       "      <td>NaN</td>\n",
       "      <td>NaN</td>\n",
       "    </tr>\n",
       "  </tbody>\n",
       "</table>\n",
       "</div>"
      ],
      "text/plain": [
       "    Party                 Name    Type  \\\n",
       "0     CPI           Aziz Pasha  Others   \n",
       "1  CPI(M)     V K Ramachandran  Others   \n",
       "2     INC   Dr. Manmohan Singh  Others   \n",
       "3     INC  Dr. Manda Jagnathan  Others   \n",
       "4     INC     Prof. K.V.Thomas  Others   \n",
       "\n",
       "                                             Address PAN Given    Amount  \\\n",
       "0                  16-B, Ferozeshah Road New Delhi-1         Y   3000000   \n",
       "1  No.1, First Floor Main Road Domlur Second Stag...         Y  10000000   \n",
       "2                   3, Motilal Nehru Place New Delhi         N    108000   \n",
       "3                        9,Firozshah Road New Delhi          N     54000   \n",
       "4                     17,Dr.B.R.Mehta Lane New Delhi         N     54000   \n",
       "\n",
       "                                   Contribution Mode Financial Year   \\\n",
       "0                                               CASH         2010-11   \n",
       "1  000037, HDFC Bank Bengaluru, Dt. 16.03.2015, 5...         2014-15   \n",
       "2  Cheque, State Bank of India Parliament House N...         2014-15   \n",
       "3                              Through Bank Transfer         2011-12   \n",
       "4                              Through Bank Transfer         2011-12   \n",
       "\n",
       "   Unnamed: 8  Unnamed: 9 Unnamed: 10  Unnamed: 11  Unnamed: 12 Unnamed: 13  \n",
       "0         NaN         NaN         NaN          NaN          NaN         NaN  \n",
       "1         NaN         NaN         NaN          NaN          NaN         NaN  \n",
       "2         NaN         NaN         NaN          NaN          NaN         NaN  \n",
       "3         NaN         NaN         NaN          NaN          NaN         NaN  \n",
       "4         NaN         NaN         NaN          NaN          NaN         NaN  "
      ]
     },
     "execution_count": 3,
     "metadata": {},
     "output_type": "execute_result"
    }
   ],
   "source": [
    "df.head()"
   ]
  },
  {
   "cell_type": "code",
   "execution_count": 4,
   "metadata": {},
   "outputs": [
    {
     "data": {
      "text/plain": [
       "Index(['Party', 'Name', 'Type', 'Address', 'PAN Given', 'Amount',\n",
       "       'Contribution Mode', 'Financial Year ', 'Unnamed: 8', 'Unnamed: 9',\n",
       "       'Unnamed: 10', 'Unnamed: 11', 'Unnamed: 12', 'Unnamed: 13'],\n",
       "      dtype='object')"
      ]
     },
     "execution_count": 4,
     "metadata": {},
     "output_type": "execute_result"
    }
   ],
   "source": [
    "df.columns"
   ]
  },
  {
   "cell_type": "markdown",
   "metadata": {},
   "source": [
    "### Test of Freedom :  Get Creative"
   ]
  },
  {
   "cell_type": "markdown",
   "metadata": {},
   "source": [
    "#### __Google and find some cool visualizations using matplotlib, you have complete freedom do some cool visualizations as you see fit with the data using this dataset. Remove the Nan Columns (Unnamed 8 to Unnamed 13) and create the magic__"
   ]
  },
  {
   "cell_type": "markdown",
   "metadata": {},
   "source": [
    "[Matplotlib Cheat Sheet](https://s3.amazonaws.com/assets.datacamp.com/blog_assets/Python_Matplotlib_Cheat_Sheet.pdf)\n",
    "\n",
    "[Examples](https://python-graph-gallery.com/matplotlib/)"
   ]
  },
  {
   "cell_type": "code",
   "execution_count": 8,
   "metadata": {},
   "outputs": [],
   "source": [
    "df=df.drop([ 'Unnamed: 8', 'Unnamed: 9','Unnamed: 10', 'Unnamed: 11', 'Unnamed: 12', 'Unnamed: 13'], axis=1)"
   ]
  },
  {
   "cell_type": "code",
   "execution_count": 9,
   "metadata": {},
   "outputs": [
    {
     "data": {
      "image/png": "[encoded data removed]",
      "text/plain": [
       "<Figure size 1080x504 with 1 Axes>"
      ]
     },
     "metadata": {},
     "output_type": "display_data"
    }
   ],
   "source": [
    "df.plot(kind='area',figsize=(15,7))\n",
    "plt.ylabel(\"Donation Amount (Rupees)\")\n",
    "plt.xlabel(\"Parties\")\n",
    "plt.show() "
   ]
  },
  {
   "cell_type": "code",
   "execution_count": null,
   "metadata": {},
   "outputs": [],
   "source": []
  },
  {
   "cell_type": "code",
   "execution_count": null,
   "metadata": {},
   "outputs": [],
   "source": []
  },
  {
   "cell_type": "code",
   "execution_count": null,
   "metadata": {},
   "outputs": [],
   "source": []
  },
  {
   "cell_type": "code",
   "execution_count": null,
   "metadata": {},
   "outputs": [],
   "source": []
  },
  {
   "cell_type": "code",
   "execution_count": null,
   "metadata": {},
   "outputs": [],
   "source": []
  }
 ],
 "metadata": {
  "kernelspec": {
   "display_name": "Python 3",
   "language": "python",
   "name": "python3"
  },
  "language_info": {
   "codemirror_mode": {
    "name": "ipython",
    "version": 3
   },
   "file_extension": ".py",
   "mimetype": "text/x-python",
   "name": "python",
   "nbconvert_exporter": "python",
   "pygments_lexer": "ipython3",
   "version": "3.6.5"
  }
 },
 "nbformat": 4,
 "nbformat_minor": 2
}
