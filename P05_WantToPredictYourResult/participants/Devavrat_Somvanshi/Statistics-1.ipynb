{
 "cells": [
  {
   "cell_type": "code",
   "execution_count": 2,
   "metadata": {},
   "outputs": [],
   "source": [
    "import numpy as np\n",
    "from scipy.stats import mode"
   ]
  },
  {
   "cell_type": "markdown",
   "metadata": {},
   "source": [
    "# Central Tendency\n",
    "\n",
    "#### Measures of central tendency are measures of location within a distribution. They summarize, in a single value, the one score that best describes the centrality of the data. Of course, there are lots of scores in any data set. Nevertheless, one score is most representative of the entire set of scores"
   ]
  },
  {
   "cell_type": "markdown",
   "metadata": {},
   "source": [
    "## Mode\n",
    "\n",
    "Because of its simplicity, the mode is an adequate measure of central tendency to report if you need a summary statistic in a hurry. For most purposes, however, the mode is not the best measure of central tendency to report. It is simply too subject to the vagaries of the cases that happen to fall in a particular sample. Also, for very small samples, the mode may have a frequency only one or two higher than the other scores—not very informative. Finally, no additional statistics are based on the mode. For these reasons, it is not as useful as the median or the mean."
   ]
  },
  {
   "cell_type": "code",
   "execution_count": 4,
   "metadata": {},
   "outputs": [
    {
     "data": {
      "text/plain": [
       "ModeResult(mode=array([2]), count=array([6]))"
      ]
     },
     "execution_count": 4,
     "metadata": {},
     "output_type": "execute_result"
    }
   ],
   "source": [
    "successful_hunts = [1,2,3,4,8,2,3,2,2,2,2]\n",
    "mode(successful_hunts) #Using mode function of scipy.stats module -> Cool module check it out"
   ]
  },
  {
   "cell_type": "markdown",
   "metadata": {},
   "source": [
    "__Mode Simply is the most frequent element. So clearly with six counts 2 is most frequent but you can think this doesn't go well with central tendencies__"
   ]
  },
  {
   "cell_type": "markdown",
   "metadata": {},
   "source": [
    "## Median\n",
    "\n",
    "The median, symbolized Mdn, is the middle score. It cuts the distribution in half, so that there are the same number of scores above the median as there are below the median.Because it is the middle score, the median is the 50th percentile. Here’s an example. Seven basketball players shoot 30 free throws during a practice session. The numbers of baskets they make are listed below. What is the median number of baskets made?\n",
    "\n",
    "__22, 23, 11, 18, 22, 20, 15__\n",
    "\n",
    "\n",
    "To find the median, use the following steps:\n",
    "1. Put the scores in ascending or descending order. If you do not first do this, the median will merely reflect the arrangement of the numbers rather than the actual number of baskets made. Here are the scores in ascending order.\n",
    "\n",
    "__11, 15, 18, 20, 22, 22, 23__\n",
    "\n",
    "2. Count in from the lowest and highest scores until you find the middle score.\n",
    "\n",
    "What is the median number of baskets? __The median number of baskets is 20__ because there are three scores above 20 and three scores below 20.\n",
    "\n",
    "Here’s another example. Twelve members of a gym class, some in good physical condition and some in not-so-good physical condition, see how many sit-ups they can complete\n",
    "in a minute. Here are their scores.\n",
    "\n",
    "__2, 3, 6, 10, 12, 12, 14, 15, 15, 15, 24, 25__\n",
    "\n",
    "What is the median number of sit-ups? Is it 12? 14? The median is 13, because there are six scores below 13 and six scores above 13. Note that the median does not necessarily have to be an existing score. In this case, no one completed exactly 13 sit-ups. Here is the rule: __With an odd number of scores, the median will be an actual score. But with an even number of scores, the median will not be an actual score. Instead, it will be the score midway between the two centermost scores. To get the midpoint, simply average the two centermost scores. In our example, this is (12 + 14)/2, which is 26/2, which is 13.__"
   ]
  },
  {
   "cell_type": "code",
   "execution_count": 7,
   "metadata": {},
   "outputs": [
    {
     "data": {
      "text/plain": [
       "50.0"
      ]
     },
     "execution_count": 7,
     "metadata": {},
     "output_type": "execute_result"
    }
   ],
   "source": [
    "race_turtles = np.arange(1,100,1)\n",
    "np.median(race_turtles) #49 Up and 49 Down "
   ]
  },
  {
   "cell_type": "code",
   "execution_count": 9,
   "metadata": {},
   "outputs": [
    {
     "data": {
      "text/plain": [
       "50.5"
      ]
     },
     "execution_count": 9,
     "metadata": {},
     "output_type": "execute_result"
    }
   ],
   "source": [
    "race_turtles = np.arange(1,101,1)\n",
    "np.median(race_turtles) #50.5 up and 50.5 Down (49+51)/2"
   ]
  },
  {
   "cell_type": "markdown",
   "metadata": {},
   "source": [
    "## Mean\n",
    "\n",
    "In mathematics and statistics, the arithmetic mean or simply the mean or average when the context is clear, is the sum of a collection of numbers divided by the count of numbers in the collection.\n",
    "\n",
    "__While the arithmetic mean is often used to report central tendencies, it is not a robust statistic, meaning that it is greatly influenced by outliers (values that are very much larger or smaller than most of the values). Notably, for skewed distributions, such as the distribution of income for which a few people's incomes are substantially greater than most people's, the arithmetic mean may not coincide with one's notion of \"middle\", and robust statistics, such as the median, may be a better description of central tendency.__\n",
    "\n",
    "\n",
    "### Now the question is : What is an outlier?\n",
    "\n",
    "__A score that is way out of line with the rest of the data is called an outlier.__ _Sometimes outliers are legitimate—one person in the sample is simply much faster, smarter, or better along whatever scale is being measured. Other times an outlier represents a clerical error—the person was measured incorrectly or the score was entered into the data set incorrectly. Because outliers markedly affect the mean, researchers need to be especially alert for them so that they can determine whether the score legitimately belongs in the data set. Simply knowing the value of the mean does not, in itself, tell us that there is an outlier. Only visual inspection of the data tells us that. This is another reason why competent researchers always look at the data before calculating any statistic._"
   ]
  },
  {
   "cell_type": "code",
   "execution_count": 12,
   "metadata": {},
   "outputs": [],
   "source": [
    "race_time_finish = np.array([x for x in range(1000,1050)])"
   ]
  },
  {
   "cell_type": "code",
   "execution_count": 13,
   "metadata": {},
   "outputs": [
    {
     "data": {
      "text/plain": [
       "array([1000, 1001, 1002, 1003, 1004, 1005, 1006, 1007, 1008, 1009, 1010,\n",
       "       1011, 1012, 1013, 1014, 1015, 1016, 1017, 1018, 1019, 1020, 1021,\n",
       "       1022, 1023, 1024, 1025, 1026, 1027, 1028, 1029, 1030, 1031, 1032,\n",
       "       1033, 1034, 1035, 1036, 1037, 1038, 1039, 1040, 1041, 1042, 1043,\n",
       "       1044, 1045, 1046, 1047, 1048, 1049])"
      ]
     },
     "execution_count": 13,
     "metadata": {},
     "output_type": "execute_result"
    }
   ],
   "source": [
    "race_time_finish"
   ]
  },
  {
   "cell_type": "code",
   "execution_count": 14,
   "metadata": {},
   "outputs": [
    {
     "data": {
      "text/plain": [
       "1024.5"
      ]
     },
     "execution_count": 14,
     "metadata": {},
     "output_type": "execute_result"
    }
   ],
   "source": [
    "np.mean(race_time_finish)"
   ]
  },
  {
   "cell_type": "code",
   "execution_count": 16,
   "metadata": {},
   "outputs": [
    {
     "data": {
      "text/plain": [
       "3.0"
      ]
     },
     "execution_count": 16,
     "metadata": {},
     "output_type": "execute_result"
    }
   ],
   "source": [
    "my_class_marks = np.array([1,2,3,3,1,2,3,4,5,2,3,4,6])\n",
    "np.mean(my_class_marks)"
   ]
  },
  {
   "cell_type": "code",
   "execution_count": 19,
   "metadata": {},
   "outputs": [
    {
     "data": {
      "text/plain": [
       "24.214285714285715"
      ]
     },
     "execution_count": 19,
     "metadata": {},
     "output_type": "execute_result"
    }
   ],
   "source": [
    "my_class_marks = np.array([1,2,3,3,1,2,3,4,5,2,3,4,6,300])\n",
    "np.mean(my_class_marks) #See how outliers can drastically effect the mean"
   ]
  },
  {
   "cell_type": "markdown",
   "metadata": {},
   "source": [
    "### __External Resources__\n",
    " * [Measures of Central Tendency Visually Explained](https://statistics.laerd.com/statistical-guides/measures-central-tendency-mean-mode-median.php)\n",
    " * [Skewness : When Mean and Median are not the same thing](https://web.ma.utexas.edu/users/mks/statmistakes/skeweddistributions.html)"
   ]
  },
  {
   "cell_type": "code",
   "execution_count": null,
   "metadata": {},
   "outputs": [],
   "source": []
  }
 ],
 "metadata": {
  "kernelspec": {
   "display_name": "Python 3",
   "language": "python",
   "name": "python3"
  },
  "language_info": {
   "codemirror_mode": {
    "name": "ipython",
    "version": 3
   },
   "file_extension": ".py",
   "mimetype": "text/x-python",
   "name": "python",
   "nbconvert_exporter": "python",
   "pygments_lexer": "ipython3",
   "version": "3.6.5"
  }
 },
 "nbformat": 4,
 "nbformat_minor": 2
}
