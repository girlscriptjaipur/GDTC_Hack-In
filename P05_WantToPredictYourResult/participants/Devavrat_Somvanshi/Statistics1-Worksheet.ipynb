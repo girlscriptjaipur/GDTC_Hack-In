{
 "cells": [
  {
   "cell_type": "code",
   "execution_count": 2,
   "metadata": {},
   "outputs": [],
   "source": [
    "import numpy as np\n",
    "from scipy.stats import mode"
   ]
  },
  {
   "cell_type": "markdown",
   "metadata": {},
   "source": [
    "#### __Calculate the mean median mode for the given array 'x' and answer the following questions:__\n",
    " * What is mean,median and mode for the given array?\n",
    " * Is mean and median same?\n",
    " * If they are not same which one is greater?\n",
    " * What does it means to have mean > median and mean < median and mean = median?\n",
    " * By looking and analyzing can you tell the skewness of the data?"
   ]
  },
  {
   "cell_type": "code",
   "execution_count": 3,
   "metadata": {},
   "outputs": [],
   "source": [
    "x = np.array([1,2,3,4,8,9,0,3,4,5,7,9,0,1])"
   ]
  },
  {
   "cell_type": "code",
   "execution_count": 4,
   "metadata": {},
   "outputs": [
    {
     "data": {
      "text/plain": [
       "4.0"
      ]
     },
     "execution_count": 4,
     "metadata": {},
     "output_type": "execute_result"
    }
   ],
   "source": [
    "x.mean()"
   ]
  },
  {
   "cell_type": "code",
   "execution_count": 9,
   "metadata": {},
   "outputs": [
    {
     "data": {
      "text/plain": [
       "3.5"
      ]
     },
     "execution_count": 9,
     "metadata": {},
     "output_type": "execute_result"
    }
   ],
   "source": [
    "np.median(x)"
   ]
  },
  {
   "cell_type": "code",
   "execution_count": 12,
   "metadata": {},
   "outputs": [
    {
     "data": {
      "text/plain": [
       "ModeResult(mode=array([0]), count=array([2]))"
      ]
     },
     "execution_count": 12,
     "metadata": {},
     "output_type": "execute_result"
    }
   ],
   "source": [
    "mode(x)"
   ]
  },
  {
   "cell_type": "raw",
   "metadata": {},
   "source": [
    "Q.What is mean,median and mode for the given array?\n",
    "Ans: Mean: It's actually the average of the numbers\n",
    "     Mode: It's the most occured value of the array. \n",
    "     Median: It's actually the mean point but if we sort the array."
   ]
  },
  {
   "cell_type": "raw",
   "metadata": {},
   "source": [
    "Q.Is mean and median same?\n",
    "Ans: No , they can be same in many cases but if look into definition as i've explained in previous question, they are\n",
    "    actually pretty different."
   ]
  },
  {
   "cell_type": "raw",
   "metadata": {},
   "source": [
    "Q.If they are not same which one is greater?\n",
    "Ans: we can't determine it without seeing data."
   ]
  },
  {
   "cell_type": "raw",
   "metadata": {},
   "source": [
    "Q.What does it means to have mean > median and mean < median and mean = median?\n",
    "Ans: mean>median =right skewed data\n",
    "     mean<meddian=left skewed data\n",
    "     mean=median means Normally distributed data."
   ]
  },
  {
   "cell_type": "raw",
   "metadata": {},
   "source": [
    "Q.By looking and analyzing can you tell the skewness of the data?\n",
    "Ans: Yes, if know the mean and median we can state the skewness property of data."
   ]
  },
  {
   "cell_type": "markdown",
   "metadata": {},
   "source": [
    "#### __Comment on effect of outliers on the median and mode__"
   ]
  },
  {
   "cell_type": "markdown",
   "metadata": {},
   "source": [
    " Median and mode are almost free from the effect of outliers"
   ]
  },
  {
   "cell_type": "markdown",
   "metadata": {},
   "source": [
    "#### __Calculate variance of a array without using inbuilt numpy function__"
   ]
  },
  {
   "cell_type": "code",
   "execution_count": 18,
   "metadata": {},
   "outputs": [
    {
     "name": "stdout",
     "output_type": "stream",
     "text": [
      "10.153846153846153\n"
     ]
    }
   ],
   "source": [
    "mean=x.mean()\n",
    "size=x.size\n",
    "sumData=0\n",
    "for i in x:\n",
    "    sumData=(i-mean)**2+sumData\n",
    "variance=sumData/(size-1)\n",
    "print(variance)\n"
   ]
  },
  {
   "cell_type": "markdown",
   "metadata": {},
   "source": [
    "#### __Comment on the population variance and sample variance? Google it and let's see how well you understand it.__"
   ]
  },
  {
   "cell_type": "markdown",
   "metadata": {},
   "source": [
    "In population difference we took all the data set for the variance measurements but in sample dataset we took only\n",
    "the little part of dataset.\n",
    "When we calculate variance we prefer to divide by n-1  to prevent it from biasness.\n",
    "For example we want to make our predictions for the whole country for cancer chances.we will absolutely divide it by n. \n",
    "This is the case for population variance but if are talking about only a small are like a colony we will divide it by n-1 \n",
    "to intentionally increasing the variance so that we can overcome the risk of getting wrong prediction in later stage."
   ]
  },
  {
   "cell_type": "markdown",
   "metadata": {},
   "source": [
    "#### __Comment on the population standard deviation and sample standard deviation?__"
   ]
  },
  {
   "cell_type": "code",
   "execution_count": null,
   "metadata": {},
   "outputs": [],
   "source": [
    "If there is many outliers in population , Standard deviation will be much greater than the standard deviation for \n",
    "the samp"
   ]
  },
  {
   "cell_type": "code",
   "execution_count": null,
   "metadata": {},
   "outputs": [],
   "source": []
  },
  {
   "cell_type": "code",
   "execution_count": null,
   "metadata": {},
   "outputs": [],
   "source": []
  }
 ],
 "metadata": {
  "kernelspec": {
   "display_name": "Python 3",
   "language": "python",
   "name": "python3"
  },
  "language_info": {
   "codemirror_mode": {
    "name": "ipython",
    "version": 3
   },
   "file_extension": ".py",
   "mimetype": "text/x-python",
   "name": "python",
   "nbconvert_exporter": "python",
   "pygments_lexer": "ipython3",
   "version": "3.6.5"
  }
 },
 "nbformat": 4,
 "nbformat_minor": 2
}
