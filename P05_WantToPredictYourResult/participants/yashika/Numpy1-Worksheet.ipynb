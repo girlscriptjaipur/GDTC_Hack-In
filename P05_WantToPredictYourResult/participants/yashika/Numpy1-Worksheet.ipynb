{
 "cells": [
  {
   "cell_type": "markdown",
   "metadata": {},
   "source": [
    "#### Question-1 How is shape of ndarray stored? (Tuple/List/ndarray object?)"
   ]
  },
  {
   "cell_type": "code",
   "execution_count": 2,
   "metadata": {},
   "outputs": [
    {
     "name": "stdout",
     "output_type": "stream",
     "text": [
      "<class 'tuple'>\n"
     ]
    }
   ],
   "source": [
    "#Tuple\n",
    "import numpy as np\n",
    "a=[1,2,8,9,5]\n",
    "ans=np.array(a)\n",
    "print(type(ans.shape))"
   ]
  },
  {
   "cell_type": "markdown",
   "metadata": {},
   "source": [
    "#### Question-2 Create a 3D Matrix by all the possible methods you know"
   ]
  },
  {
   "cell_type": "code",
   "execution_count": 3,
   "metadata": {},
   "outputs": [
    {
     "name": "stdout",
     "output_type": "stream",
     "text": [
      "[[[1 2 3]\n",
      "  [4 5 6]]\n",
      "\n",
      " [[7 8 9]\n",
      "  [4 5 9]]]\n",
      "\n",
      "[[[ 0  1  2  3]\n",
      "  [ 4  5  6  7]\n",
      "  [ 8  9 10 11]]\n",
      "\n",
      " [[12 13 14 15]\n",
      "  [16 17 18 19]\n",
      "  [20 21 22 23]]]\n"
     ]
    }
   ],
   "source": [
    "m=[[[1,2,3],[4,5,6]],[[7,8,9],[4,5,9]]]\n",
    "import numpy as np\n",
    "mat3d1=np.array(m)\n",
    "mat3d2=np.arange(0,24,1).reshape(2,3,4)\n",
    "print(mat3d1)\n",
    "print()\n",
    "print(mat3d2)"
   ]
  },
  {
   "cell_type": "markdown",
   "metadata": {},
   "source": [
    "#### Question-3 Print The Remaining Elements here"
   ]
  },
  {
   "cell_type": "code",
   "execution_count": 4,
   "metadata": {},
   "outputs": [
    {
     "name": "stdout",
     "output_type": "stream",
     "text": [
      "1\n",
      "3\n",
      "4\n",
      "5\n",
      "3\n",
      "3\n",
      "4\n",
      "5\n",
      "5\n",
      "6\n",
      "7\n"
     ]
    }
   ],
   "source": [
    "vals =[1,2,3,4,5]\n",
    "np_vals = np.array(vals)\n",
    "vals_2d = [[1,2,3],[3,4,5],[5,6,7]]\n",
    "np_vals_2d = np.array(vals_2d)\n",
    "print(np_vals[0])\n",
    "print(np_vals[2])\n",
    "print(np_vals[3])\n",
    "print(np_vals[4])\n",
    "print(np_vals_2d[0,2])\n",
    "print(np_vals_2d[1,0])\n",
    "print(np_vals_2d[1,1])\n",
    "print(np_vals_2d[1,2])\n",
    "print(np_vals_2d[2,0])\n",
    "print(np_vals_2d[2,1])\n",
    "print(np_vals_2d[2,2])"
   ]
  },
  {
   "cell_type": "markdown",
   "metadata": {},
   "source": [
    "#### Question-4 Print a Descending Array of counting tuning the parameters in the arange method EX: [100,99,98......"
   ]
  },
  {
   "cell_type": "code",
   "execution_count": 5,
   "metadata": {},
   "outputs": [
    {
     "name": "stdout",
     "output_type": "stream",
     "text": [
      "[100  99  98  97  96  95  94  93  92  91  90  89  88  87  86  85  84  83\n",
      "  82  81  80  79  78  77  76  75  74  73  72  71  70  69  68  67  66  65\n",
      "  64  63  62  61  60  59  58  57  56  55  54  53  52  51  50  49  48  47\n",
      "  46  45  44  43  42  41  40  39  38  37  36  35  34  33  32  31  30  29\n",
      "  28  27  26  25  24  23  22  21  20  19  18  17  16  15  14  13  12  11\n",
      "  10   9   8   7   6   5   4   3   2   1]\n"
     ]
    }
   ],
   "source": [
    "counting=np.arange(100,0,-1)\n",
    "print(counting)"
   ]
  },
  {
   "cell_type": "markdown",
   "metadata": {},
   "source": [
    "#### Question-5 Create a 3D Array using arange function"
   ]
  },
  {
   "cell_type": "code",
   "execution_count": 6,
   "metadata": {},
   "outputs": [
    {
     "data": {
      "text/plain": [
       "array([[[ 0,  1,  2,  3,  4],\n",
       "        [ 5,  6,  7,  8,  9]],\n",
       "\n",
       "       [[10, 11, 12, 13, 14],\n",
       "        [15, 16, 17, 18, 19]],\n",
       "\n",
       "       [[20, 21, 22, 23, 24],\n",
       "        [25, 26, 27, 28, 29]],\n",
       "\n",
       "       [[30, 31, 32, 33, 34],\n",
       "        [35, 36, 37, 38, 39]],\n",
       "\n",
       "       [[40, 41, 42, 43, 44],\n",
       "        [45, 46, 47, 48, 49]]])"
      ]
     },
     "execution_count": 6,
     "metadata": {},
     "output_type": "execute_result"
    }
   ],
   "source": [
    "threedarr=np.arange(50).reshape(5,2,5)\n",
    "threedarr"
   ]
  },
  {
   "cell_type": "markdown",
   "metadata": {},
   "source": [
    "#### Question-6 What's the difference between arr_back and arr_back_2?"
   ]
  },
  {
   "cell_type": "code",
   "execution_count": 7,
   "metadata": {},
   "outputs": [],
   "source": [
    "#arr_back after reshaping with one argument is a 1-D array whereas arr_back2 with 2 arguements in reshape is a 2-D array"
   ]
  },
  {
   "cell_type": "markdown",
   "metadata": {},
   "source": [
    "#### Question-7 Create a 3D array and try to select more than one element in it notice any difference?"
   ]
  },
  {
   "cell_type": "code",
   "execution_count": 10,
   "metadata": {},
   "outputs": [
    {
     "data": {
      "text/plain": [
       "array([[2, 3, 4],\n",
       "       [7, 8, 9]])"
      ]
     },
     "execution_count": 10,
     "metadata": {},
     "output_type": "execute_result"
    }
   ],
   "source": [
    "arr3d=np.arange(20).reshape(2,2,5)\n",
    "arr3d[0,0:2,2:5] # we need to mention the axes along with rows and column to select values from the 3-D array"
   ]
  },
  {
   "cell_type": "markdown",
   "metadata": {},
   "source": [
    "#### Question-8 Explore Deep Stacking and Column Stacking"
   ]
  },
  {
   "cell_type": "code",
   "execution_count": 27,
   "metadata": {},
   "outputs": [
    {
     "data": {
      "text/plain": [
       "array([ 1,  2,  3,  4,  5,  6,  7, 77,  8,  9])"
      ]
     },
     "execution_count": 27,
     "metadata": {},
     "output_type": "execute_result"
    }
   ],
   "source": [
    "#Deep stacing ad column stacking stacks the array row and column-wise respecively.\n",
    "arr1=np.array([1,2,3,4,5])\n",
    "arr2=np.array([6,7,77,8,9])\n",
    "np.vstack((arr1,arr2))\n",
    "np.hstack((arr1,arr2))"
   ]
  },
  {
   "cell_type": "markdown",
   "metadata": {},
   "source": [
    "#### Question-9 Explore The Opposite of Stacking - Splitting"
   ]
  },
  {
   "cell_type": "code",
   "execution_count": 19,
   "metadata": {},
   "outputs": [
    {
     "data": {
      "text/plain": [
       "[array([[0, 1, 2, 3],\n",
       "        [4, 5, 6, 7]]),\n",
       " array([], shape=(0, 4), dtype=int32),\n",
       " array([[ 8,  9, 10, 11],\n",
       "        [12, 13, 14, 15]])]"
      ]
     },
     "execution_count": 19,
     "metadata": {},
     "output_type": "execute_result"
    }
   ],
   "source": [
    "#in splitting the array is splitted in subarrayas.We have vsplit,hsplit and dsplit for splitting the data\n",
    "arr=np.arange(16).reshape(4,4)\n",
    "np.hsplit(arr,[1,3])\n",
    "np.split(arr,2) # the axis by default is zero\n",
    "np.vsplit(arr,[2,2])"
   ]
  },
  {
   "cell_type": "code",
   "execution_count": null,
   "metadata": {},
   "outputs": [],
   "source": []
  }
 ],
 "metadata": {
  "kernelspec": {
   "display_name": "Python 3",
   "language": "python",
   "name": "python3"
  },
  "language_info": {
   "codemirror_mode": {
    "name": "ipython",
    "version": 3
   },
   "file_extension": ".py",
   "mimetype": "text/x-python",
   "name": "python",
   "nbconvert_exporter": "python",
   "pygments_lexer": "ipython3",
   "version": "3.7.0"
  }
 },
 "nbformat": 4,
 "nbformat_minor": 2
}
