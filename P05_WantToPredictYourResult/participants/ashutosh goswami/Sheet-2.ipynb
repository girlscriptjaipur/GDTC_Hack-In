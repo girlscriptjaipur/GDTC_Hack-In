{
 "cells": [
  {
   "cell_type": "code",
   "execution_count": 1,
   "metadata": {},
   "outputs": [],
   "source": [
    "import numpy as np\n",
    "import pandas as pd\n",
    "pd.set_option('display.max_columns', 500)\n",
    "pd.set_option('display.width', 1000)"
   ]
  },
  {
   "cell_type": "code",
   "execution_count": 2,
   "metadata": {},
   "outputs": [],
   "source": [
    "import matplotlib.pyplot as plt\n",
    "import seaborn as sns\n",
    "%matplotlib inline"
   ]
  },
  {
   "cell_type": "code",
   "execution_count": 3,
   "metadata": {},
   "outputs": [
    {
     "data": {
      "text/html": [
       "<div>\n",
       "<style scoped>\n",
       "    .dataframe tbody tr th:only-of-type {\n",
       "        vertical-align: middle;\n",
       "    }\n",
       "\n",
       "    .dataframe tbody tr th {\n",
       "        vertical-align: top;\n",
       "    }\n",
       "\n",
       "    .dataframe thead th {\n",
       "        text-align: right;\n",
       "    }\n",
       "</style>\n",
       "<table border=\"1\" class=\"dataframe\">\n",
       "  <thead>\n",
       "    <tr style=\"text-align: right;\">\n",
       "      <th></th>\n",
       "      <th>Student Name</th>\n",
       "      <th>AM-1 Internal</th>\n",
       "      <th>AM-1 External</th>\n",
       "      <th>AP-1 Internal</th>\n",
       "      <th>AP-1 External</th>\n",
       "      <th>MP Internal</th>\n",
       "      <th>MP External</th>\n",
       "      <th>ET Internal</th>\n",
       "      <th>ET External</th>\n",
       "      <th>HVPE External</th>\n",
       "      <th>FOC Internal</th>\n",
       "      <th>FOC External</th>\n",
       "      <th>AC Internal</th>\n",
       "      <th>AC External</th>\n",
       "      <th>AP-1 LAB Internal</th>\n",
       "      <th>AP-1 LAB External</th>\n",
       "      <th>ET LAB Internal</th>\n",
       "      <th>ET LAB External</th>\n",
       "      <th>MP LAB Internal</th>\n",
       "      <th>MP LAB External</th>\n",
       "      <th>FOC LAB Internal</th>\n",
       "      <th>FOC LAB External</th>\n",
       "      <th>ED LAB Internal</th>\n",
       "      <th>ED LAB External</th>\n",
       "      <th>AC LAB Internal</th>\n",
       "      <th>AC LAB External</th>\n",
       "      <th>AM-2 Internal</th>\n",
       "      <th>AM-2 External</th>\n",
       "      <th>AP-2 Internal</th>\n",
       "      <th>AP-2 External</th>\n",
       "      <th>E.Devices Internal</th>\n",
       "      <th>E.Devices External</th>\n",
       "      <th>ITP Internal</th>\n",
       "      <th>ITP External</th>\n",
       "      <th>E.Mechanics Internal</th>\n",
       "      <th>E.Mechanics External</th>\n",
       "      <th>Comm Skills Internal</th>\n",
       "      <th>Comm Skills External</th>\n",
       "      <th>Env. Studies Internal</th>\n",
       "      <th>Env. Studies External</th>\n",
       "      <th>AP LAB Internal</th>\n",
       "      <th>AP LAB External</th>\n",
       "      <th>ITP LAB Internal</th>\n",
       "      <th>ITP LAB External</th>\n",
       "      <th>E.Devices LAB Internal</th>\n",
       "      <th>E.Devices LAB External</th>\n",
       "      <th>E.Mechanics LAB Internal</th>\n",
       "      <th>E.Mechanics LAB External</th>\n",
       "      <th>Env. Studies LAB Internal</th>\n",
       "      <th>Env. Studies LAB External</th>\n",
       "      <th>AM-3 Internal</th>\n",
       "      <th>AM-3 External</th>\n",
       "      <th>FCS Internal</th>\n",
       "      <th>FCS External</th>\n",
       "      <th>STLD Internal</th>\n",
       "      <th>STLD External</th>\n",
       "      <th>CS Internal</th>\n",
       "      <th>CS External</th>\n",
       "      <th>DS Internal</th>\n",
       "      <th>DS External</th>\n",
       "      <th>CGM Internal</th>\n",
       "      <th>CGM External</th>\n",
       "      <th>STLD LAB Internal</th>\n",
       "      <th>STLD LAB External</th>\n",
       "      <th>DS LAB Internal</th>\n",
       "      <th>DS LAB External</th>\n",
       "      <th>CGM LAB Internal</th>\n",
       "      <th>CGM LAB External</th>\n",
       "      <th>CS LAB Internal</th>\n",
       "      <th>CS LAB External</th>\n",
       "    </tr>\n",
       "    <tr>\n",
       "      <th>Enrollment No</th>\n",
       "      <th></th>\n",
       "      <th></th>\n",
       "      <th></th>\n",
       "      <th></th>\n",
       "      <th></th>\n",
       "      <th></th>\n",
       "      <th></th>\n",
       "      <th></th>\n",
       "      <th></th>\n",
       "      <th></th>\n",
       "      <th></th>\n",
       "      <th></th>\n",
       "      <th></th>\n",
       "      <th></th>\n",
       "      <th></th>\n",
       "      <th></th>\n",
       "      <th></th>\n",
       "      <th></th>\n",
       "      <th></th>\n",
       "      <th></th>\n",
       "      <th></th>\n",
       "      <th></th>\n",
       "      <th></th>\n",
       "      <th></th>\n",
       "      <th></th>\n",
       "      <th></th>\n",
       "      <th></th>\n",
       "      <th></th>\n",
       "      <th></th>\n",
       "      <th></th>\n",
       "      <th></th>\n",
       "      <th></th>\n",
       "      <th></th>\n",
       "      <th></th>\n",
       "      <th></th>\n",
       "      <th></th>\n",
       "      <th></th>\n",
       "      <th></th>\n",
       "      <th></th>\n",
       "      <th></th>\n",
       "      <th></th>\n",
       "      <th></th>\n",
       "      <th></th>\n",
       "      <th></th>\n",
       "      <th></th>\n",
       "      <th></th>\n",
       "      <th></th>\n",
       "      <th></th>\n",
       "      <th></th>\n",
       "      <th></th>\n",
       "      <th></th>\n",
       "      <th></th>\n",
       "      <th></th>\n",
       "      <th></th>\n",
       "      <th></th>\n",
       "      <th></th>\n",
       "      <th></th>\n",
       "      <th></th>\n",
       "      <th></th>\n",
       "      <th></th>\n",
       "      <th></th>\n",
       "      <th></th>\n",
       "      <th></th>\n",
       "      <th></th>\n",
       "      <th></th>\n",
       "      <th></th>\n",
       "      <th></th>\n",
       "      <th></th>\n",
       "      <th></th>\n",
       "      <th></th>\n",
       "    </tr>\n",
       "  </thead>\n",
       "  <tbody>\n",
       "    <tr>\n",
       "      <th>210102717</th>\n",
       "      <td>ABHISHEK KUMAR VERMA</td>\n",
       "      <td>17</td>\n",
       "      <td>57</td>\n",
       "      <td>23</td>\n",
       "      <td>64</td>\n",
       "      <td>22</td>\n",
       "      <td>47</td>\n",
       "      <td>17</td>\n",
       "      <td>57</td>\n",
       "      <td>89</td>\n",
       "      <td>19</td>\n",
       "      <td>65</td>\n",
       "      <td>24</td>\n",
       "      <td>63</td>\n",
       "      <td>39</td>\n",
       "      <td>59</td>\n",
       "      <td>33</td>\n",
       "      <td>48</td>\n",
       "      <td>38</td>\n",
       "      <td>45</td>\n",
       "      <td>36</td>\n",
       "      <td>47</td>\n",
       "      <td>34</td>\n",
       "      <td>55</td>\n",
       "      <td>39</td>\n",
       "      <td>58</td>\n",
       "      <td>13</td>\n",
       "      <td>33</td>\n",
       "      <td>19</td>\n",
       "      <td>62</td>\n",
       "      <td>20</td>\n",
       "      <td>42</td>\n",
       "      <td>17</td>\n",
       "      <td>47</td>\n",
       "      <td>16</td>\n",
       "      <td>50</td>\n",
       "      <td>15</td>\n",
       "      <td>44</td>\n",
       "      <td>18</td>\n",
       "      <td>55</td>\n",
       "      <td>38</td>\n",
       "      <td>56</td>\n",
       "      <td>30</td>\n",
       "      <td>45</td>\n",
       "      <td>34</td>\n",
       "      <td>51</td>\n",
       "      <td>29</td>\n",
       "      <td>45</td>\n",
       "      <td>29</td>\n",
       "      <td>53</td>\n",
       "      <td>20</td>\n",
       "      <td>57</td>\n",
       "      <td>22</td>\n",
       "      <td>52</td>\n",
       "      <td>25</td>\n",
       "      <td>63</td>\n",
       "      <td>23</td>\n",
       "      <td>75</td>\n",
       "      <td>23</td>\n",
       "      <td>46</td>\n",
       "      <td>22</td>\n",
       "      <td>61</td>\n",
       "      <td>39</td>\n",
       "      <td>57</td>\n",
       "      <td>36</td>\n",
       "      <td>55</td>\n",
       "      <td>35</td>\n",
       "      <td>51</td>\n",
       "      <td>36</td>\n",
       "      <td>55</td>\n",
       "    </tr>\n",
       "    <tr>\n",
       "      <th>510102717</th>\n",
       "      <td>ANJALI</td>\n",
       "      <td>15</td>\n",
       "      <td>50</td>\n",
       "      <td>19</td>\n",
       "      <td>59</td>\n",
       "      <td>17</td>\n",
       "      <td>38</td>\n",
       "      <td>15</td>\n",
       "      <td>54</td>\n",
       "      <td>82</td>\n",
       "      <td>16</td>\n",
       "      <td>52</td>\n",
       "      <td>17</td>\n",
       "      <td>52</td>\n",
       "      <td>32</td>\n",
       "      <td>53</td>\n",
       "      <td>26</td>\n",
       "      <td>40</td>\n",
       "      <td>35</td>\n",
       "      <td>43</td>\n",
       "      <td>31</td>\n",
       "      <td>47</td>\n",
       "      <td>27</td>\n",
       "      <td>36</td>\n",
       "      <td>35</td>\n",
       "      <td>53</td>\n",
       "      <td>13</td>\n",
       "      <td>46</td>\n",
       "      <td>19</td>\n",
       "      <td>43</td>\n",
       "      <td>21</td>\n",
       "      <td>36</td>\n",
       "      <td>13</td>\n",
       "      <td>37</td>\n",
       "      <td>15</td>\n",
       "      <td>34</td>\n",
       "      <td>14</td>\n",
       "      <td>48</td>\n",
       "      <td>15</td>\n",
       "      <td>57</td>\n",
       "      <td>29</td>\n",
       "      <td>56</td>\n",
       "      <td>30</td>\n",
       "      <td>45</td>\n",
       "      <td>33</td>\n",
       "      <td>54</td>\n",
       "      <td>34</td>\n",
       "      <td>41</td>\n",
       "      <td>28</td>\n",
       "      <td>44</td>\n",
       "      <td>10</td>\n",
       "      <td>55</td>\n",
       "      <td>18</td>\n",
       "      <td>45</td>\n",
       "      <td>20</td>\n",
       "      <td>75</td>\n",
       "      <td>19</td>\n",
       "      <td>41</td>\n",
       "      <td>22</td>\n",
       "      <td>42</td>\n",
       "      <td>22</td>\n",
       "      <td>65</td>\n",
       "      <td>37</td>\n",
       "      <td>49</td>\n",
       "      <td>33</td>\n",
       "      <td>46</td>\n",
       "      <td>34</td>\n",
       "      <td>54</td>\n",
       "      <td>34</td>\n",
       "      <td>48</td>\n",
       "    </tr>\n",
       "    <tr>\n",
       "      <th>610102717</th>\n",
       "      <td>ANOOP PARASHAR</td>\n",
       "      <td>9</td>\n",
       "      <td>31</td>\n",
       "      <td>18</td>\n",
       "      <td>31</td>\n",
       "      <td>20</td>\n",
       "      <td>46</td>\n",
       "      <td>13</td>\n",
       "      <td>42</td>\n",
       "      <td>76</td>\n",
       "      <td>19</td>\n",
       "      <td>45</td>\n",
       "      <td>14</td>\n",
       "      <td>30</td>\n",
       "      <td>32</td>\n",
       "      <td>52</td>\n",
       "      <td>23</td>\n",
       "      <td>40</td>\n",
       "      <td>36</td>\n",
       "      <td>46</td>\n",
       "      <td>36</td>\n",
       "      <td>45</td>\n",
       "      <td>32</td>\n",
       "      <td>37</td>\n",
       "      <td>29</td>\n",
       "      <td>46</td>\n",
       "      <td>3</td>\n",
       "      <td>24</td>\n",
       "      <td>17</td>\n",
       "      <td>37</td>\n",
       "      <td>18</td>\n",
       "      <td>35</td>\n",
       "      <td>13</td>\n",
       "      <td>31</td>\n",
       "      <td>13</td>\n",
       "      <td>31</td>\n",
       "      <td>13</td>\n",
       "      <td>32</td>\n",
       "      <td>15</td>\n",
       "      <td>55</td>\n",
       "      <td>33</td>\n",
       "      <td>57</td>\n",
       "      <td>29</td>\n",
       "      <td>44</td>\n",
       "      <td>34</td>\n",
       "      <td>45</td>\n",
       "      <td>32</td>\n",
       "      <td>34</td>\n",
       "      <td>34</td>\n",
       "      <td>50</td>\n",
       "      <td>3</td>\n",
       "      <td>41</td>\n",
       "      <td>16</td>\n",
       "      <td>37</td>\n",
       "      <td>9</td>\n",
       "      <td>66</td>\n",
       "      <td>18</td>\n",
       "      <td>37</td>\n",
       "      <td>16</td>\n",
       "      <td>35</td>\n",
       "      <td>22</td>\n",
       "      <td>31</td>\n",
       "      <td>38</td>\n",
       "      <td>48</td>\n",
       "      <td>34</td>\n",
       "      <td>45</td>\n",
       "      <td>32</td>\n",
       "      <td>51</td>\n",
       "      <td>33</td>\n",
       "      <td>45</td>\n",
       "    </tr>\n",
       "    <tr>\n",
       "      <th>810102717</th>\n",
       "      <td>ASHISH KUMAR CHOUDHARY</td>\n",
       "      <td>17</td>\n",
       "      <td>48</td>\n",
       "      <td>24</td>\n",
       "      <td>59</td>\n",
       "      <td>20</td>\n",
       "      <td>46</td>\n",
       "      <td>19</td>\n",
       "      <td>46</td>\n",
       "      <td>88</td>\n",
       "      <td>15</td>\n",
       "      <td>40</td>\n",
       "      <td>23</td>\n",
       "      <td>54</td>\n",
       "      <td>37</td>\n",
       "      <td>54</td>\n",
       "      <td>33</td>\n",
       "      <td>45</td>\n",
       "      <td>39</td>\n",
       "      <td>46</td>\n",
       "      <td>30</td>\n",
       "      <td>47</td>\n",
       "      <td>33</td>\n",
       "      <td>40</td>\n",
       "      <td>38</td>\n",
       "      <td>56</td>\n",
       "      <td>6</td>\n",
       "      <td>32</td>\n",
       "      <td>19</td>\n",
       "      <td>43</td>\n",
       "      <td>23</td>\n",
       "      <td>44</td>\n",
       "      <td>21</td>\n",
       "      <td>36</td>\n",
       "      <td>15</td>\n",
       "      <td>51</td>\n",
       "      <td>18</td>\n",
       "      <td>45</td>\n",
       "      <td>22</td>\n",
       "      <td>44</td>\n",
       "      <td>34</td>\n",
       "      <td>58</td>\n",
       "      <td>34</td>\n",
       "      <td>51</td>\n",
       "      <td>36</td>\n",
       "      <td>58</td>\n",
       "      <td>35</td>\n",
       "      <td>43</td>\n",
       "      <td>39</td>\n",
       "      <td>56</td>\n",
       "      <td>15</td>\n",
       "      <td>59</td>\n",
       "      <td>21</td>\n",
       "      <td>50</td>\n",
       "      <td>20</td>\n",
       "      <td>66</td>\n",
       "      <td>21</td>\n",
       "      <td>58</td>\n",
       "      <td>21</td>\n",
       "      <td>44</td>\n",
       "      <td>20</td>\n",
       "      <td>43</td>\n",
       "      <td>36</td>\n",
       "      <td>49</td>\n",
       "      <td>34</td>\n",
       "      <td>44</td>\n",
       "      <td>34</td>\n",
       "      <td>50</td>\n",
       "      <td>38</td>\n",
       "      <td>48</td>\n",
       "    </tr>\n",
       "    <tr>\n",
       "      <th>910102717</th>\n",
       "      <td>AYUSH SINGH CHILWAL</td>\n",
       "      <td>17</td>\n",
       "      <td>60</td>\n",
       "      <td>23</td>\n",
       "      <td>64</td>\n",
       "      <td>16</td>\n",
       "      <td>47</td>\n",
       "      <td>22</td>\n",
       "      <td>58</td>\n",
       "      <td>84</td>\n",
       "      <td>21</td>\n",
       "      <td>61</td>\n",
       "      <td>24</td>\n",
       "      <td>62</td>\n",
       "      <td>34</td>\n",
       "      <td>51</td>\n",
       "      <td>31</td>\n",
       "      <td>43</td>\n",
       "      <td>39</td>\n",
       "      <td>46</td>\n",
       "      <td>37</td>\n",
       "      <td>45</td>\n",
       "      <td>32</td>\n",
       "      <td>41</td>\n",
       "      <td>38</td>\n",
       "      <td>56</td>\n",
       "      <td>8</td>\n",
       "      <td>56</td>\n",
       "      <td>20</td>\n",
       "      <td>60</td>\n",
       "      <td>22</td>\n",
       "      <td>52</td>\n",
       "      <td>23</td>\n",
       "      <td>54</td>\n",
       "      <td>15</td>\n",
       "      <td>41</td>\n",
       "      <td>17</td>\n",
       "      <td>56</td>\n",
       "      <td>20</td>\n",
       "      <td>41</td>\n",
       "      <td>30</td>\n",
       "      <td>59</td>\n",
       "      <td>35</td>\n",
       "      <td>54</td>\n",
       "      <td>34</td>\n",
       "      <td>54</td>\n",
       "      <td>33</td>\n",
       "      <td>45</td>\n",
       "      <td>39</td>\n",
       "      <td>56</td>\n",
       "      <td>19</td>\n",
       "      <td>69</td>\n",
       "      <td>23</td>\n",
       "      <td>48</td>\n",
       "      <td>18</td>\n",
       "      <td>75</td>\n",
       "      <td>19</td>\n",
       "      <td>64</td>\n",
       "      <td>23</td>\n",
       "      <td>46</td>\n",
       "      <td>22</td>\n",
       "      <td>64</td>\n",
       "      <td>37</td>\n",
       "      <td>58</td>\n",
       "      <td>35</td>\n",
       "      <td>50</td>\n",
       "      <td>34</td>\n",
       "      <td>52</td>\n",
       "      <td>36</td>\n",
       "      <td>50</td>\n",
       "    </tr>\n",
       "  </tbody>\n",
       "</table>\n",
       "</div>"
      ],
      "text/plain": [
       "                         Student Name  AM-1 Internal  AM-1 External  AP-1 Internal  AP-1 External  MP Internal  MP External  ET Internal  ET External  HVPE External  FOC Internal  FOC External  AC Internal  AC External  AP-1 LAB Internal  AP-1 LAB External  ET LAB Internal  ET LAB External  MP LAB Internal  MP LAB External  FOC LAB Internal  FOC LAB External  ED LAB Internal  ED LAB External  AC LAB Internal  AC LAB External  AM-2 Internal  AM-2 External  AP-2 Internal  AP-2 External  E.Devices Internal  E.Devices External  ITP Internal  ITP External  E.Mechanics Internal  E.Mechanics External  Comm Skills Internal  Comm Skills External  Env. Studies Internal  Env. Studies External  AP LAB Internal  AP LAB External  ITP LAB Internal  ITP LAB External  E.Devices LAB Internal  E.Devices LAB External  E.Mechanics LAB Internal  E.Mechanics LAB External  Env. Studies LAB Internal  Env. Studies LAB External  AM-3 Internal  AM-3 External  FCS Internal  FCS External  STLD Internal  \\\n",
       "Enrollment No                                                                                                                                                                                                                                                                                                                                                                                                                                                                                                                                                                                                                                                                                                                                                                                                                                                                                                                                                                                                                 \n",
       "210102717        ABHISHEK KUMAR VERMA             17             57             23             64           22           47           17           57             89            19            65           24           63                 39                 59               33               48               38               45                36                47               34               55               39               58             13             33             19             62                  20                  42            17            47                    16                    50                    15                    44                     18                     55               38               56                30                45                      34                      51                        29                        45                         29                         53             20             57            22            52             25   \n",
       "510102717                      ANJALI             15             50             19             59           17           38           15           54             82            16            52           17           52                 32                 53               26               40               35               43                31                47               27               36               35               53             13             46             19             43                  21                  36            13            37                    15                    34                    14                    48                     15                     57               29               56                30                45                      33                      54                        34                        41                         28                         44             10             55            18            45             20   \n",
       "610102717              ANOOP PARASHAR              9             31             18             31           20           46           13           42             76            19            45           14           30                 32                 52               23               40               36               46                36                45               32               37               29               46              3             24             17             37                  18                  35            13            31                    13                    31                    13                    32                     15                     55               33               57                29                44                      34                      45                        32                        34                         34                         50              3             41            16            37              9   \n",
       "810102717      ASHISH KUMAR CHOUDHARY             17             48             24             59           20           46           19           46             88            15            40           23           54                 37                 54               33               45               39               46                30                47               33               40               38               56              6             32             19             43                  23                  44            21            36                    15                    51                    18                    45                     22                     44               34               58                34                51                      36                      58                        35                        43                         39                         56             15             59            21            50             20   \n",
       "910102717         AYUSH SINGH CHILWAL             17             60             23             64           16           47           22           58             84            21            61           24           62                 34                 51               31               43               39               46                37                45               32               41               38               56              8             56             20             60                  22                  52            23            54                    15                    41                    17                    56                     20                     41               30               59                35                54                      34                      54                        33                        45                         39                         56             19             69            23            48             18   \n",
       "\n",
       "               STLD External  CS Internal  CS External  DS Internal  DS External  CGM Internal  CGM External  STLD LAB Internal  STLD LAB External  DS LAB Internal  DS LAB External  CGM LAB Internal  CGM LAB External  CS LAB Internal  CS LAB External  \n",
       "Enrollment No                                                                                                                                                                                                                                               \n",
       "210102717                 63           23           75           23           46            22            61                 39                 57               36               55                35                51               36               55  \n",
       "510102717                 75           19           41           22           42            22            65                 37                 49               33               46                34                54               34               48  \n",
       "610102717                 66           18           37           16           35            22            31                 38                 48               34               45                32                51               33               45  \n",
       "810102717                 66           21           58           21           44            20            43                 36                 49               34               44                34                50               38               48  \n",
       "910102717                 75           19           64           23           46            22            64                 37                 58               35               50                34                52               36               50  "
      ]
     },
     "execution_count": 3,
     "metadata": {},
     "output_type": "execute_result"
    }
   ],
   "source": [
    "df_combined = pd.read_csv(\"assets/combinedsem_simplified.csv\",index_col=\"Enrollment No\")\n",
    "df_combined.head()"
   ]
  },
  {
   "cell_type": "code",
   "execution_count": 30,
   "metadata": {},
   "outputs": [
    {
     "data": {
      "text/html": [
       "<div>\n",
       "<style scoped>\n",
       "    .dataframe tbody tr th:only-of-type {\n",
       "        vertical-align: middle;\n",
       "    }\n",
       "\n",
       "    .dataframe tbody tr th {\n",
       "        vertical-align: top;\n",
       "    }\n",
       "\n",
       "    .dataframe thead th {\n",
       "        text-align: right;\n",
       "    }\n",
       "</style>\n",
       "<table border=\"1\" class=\"dataframe\">\n",
       "  <thead>\n",
       "    <tr style=\"text-align: right;\">\n",
       "      <th></th>\n",
       "      <th>First Sem</th>\n",
       "      <th>Second Sem</th>\n",
       "      <th>Third Sem</th>\n",
       "    </tr>\n",
       "    <tr>\n",
       "      <th>Enrollment No</th>\n",
       "      <th></th>\n",
       "      <th></th>\n",
       "      <th></th>\n",
       "    </tr>\n",
       "  </thead>\n",
       "  <tbody>\n",
       "    <tr>\n",
       "      <th>210102717</th>\n",
       "      <td>1095</td>\n",
       "      <td>808</td>\n",
       "      <td>906</td>\n",
       "    </tr>\n",
       "    <tr>\n",
       "      <th>510102717</th>\n",
       "      <td>944</td>\n",
       "      <td>761</td>\n",
       "      <td>813</td>\n",
       "    </tr>\n",
       "    <tr>\n",
       "      <th>610102717</th>\n",
       "      <td>848</td>\n",
       "      <td>679</td>\n",
       "      <td>707</td>\n",
       "    </tr>\n",
       "    <tr>\n",
       "      <th>810102717</th>\n",
       "      <td>997</td>\n",
       "      <td>807</td>\n",
       "      <td>827</td>\n",
       "    </tr>\n",
       "    <tr>\n",
       "      <th>910102717</th>\n",
       "      <td>1052</td>\n",
       "      <td>868</td>\n",
       "      <td>898</td>\n",
       "    </tr>\n",
       "  </tbody>\n",
       "</table>\n",
       "</div>"
      ],
      "text/plain": [
       "               First Sem  Second Sem  Third Sem\n",
       "Enrollment No                                  \n",
       "210102717           1095         808        906\n",
       "510102717            944         761        813\n",
       "610102717            848         679        707\n",
       "810102717            997         807        827\n",
       "910102717           1052         868        898"
      ]
     },
     "execution_count": 30,
     "metadata": {},
     "output_type": "execute_result"
    }
   ],
   "source": [
    "#New DataFrame of only Total Marks of all sems\n",
    "df_total  = pd.DataFrame()\n",
    "df_total['First Sem'] = df_combined.iloc[:,1:26].sum(axis=1)\n",
    "df_total['Second Sem'] = df_combined.iloc[:,26:49].sum(axis=1)\n",
    "df_total['Third Sem'] = df_combined.iloc[:,49:].sum(axis=1)\n",
    "df_total.head()"
   ]
  },
  {
   "cell_type": "code",
   "execution_count": 31,
   "metadata": {},
   "outputs": [
    {
     "data": {
      "text/plain": [
       "<matplotlib.legend.Legend at 0x1fa3cc6d710>"
      ]
     },
     "execution_count": 31,
     "metadata": {},
     "output_type": "execute_result"
    },
    {
     "data": {
      "image/png": "[encoded data removed]",
      "text/plain": [
       "<Figure size 1080x720 with 1 Axes>"
      ]
     },
     "metadata": {
      "needs_background": "light"
     },
     "output_type": "display_data"
    }
   ],
   "source": [
    "plt.figure(figsize=(15,10)) \n",
    "sns.kdeplot(df_total['First Sem'])\n",
    "sns.kdeplot(df_total['Second Sem'])\n",
    "sns.kdeplot(df_total['Third Sem'])\n",
    "plt.legend([\"First Sem\",\"Second Sem\",\"Third Sem\"])"
   ]
  },
  {
   "cell_type": "markdown",
   "metadata": {},
   "source": [
    "### Insight Time: (You will need to hit keyboard for the following Pandas much needed)\n",
    "\n",
    "#### 1. __Is average marks of students are increasing every sem or not? Comment__\n",
    "\n",
    "#### 2. __Are all of these marks nearly normal?__\n",
    "\n",
    "#### 3. __What can be said about the maximum marks for each sem?__\n",
    "\n",
    "#### 4. __Find the total number of students for each sem that scored marks more than the 90 percentile__"
   ]
  },
  {
   "cell_type": "code",
   "execution_count": 6,
   "metadata": {},
   "outputs": [],
   "source": [
    "'''1.No average Marks are not increasing it decreases in the second sem but increase in the third sem\n",
    "2.Right skewed '''"
   ]
  },
  {
   "cell_type": "code",
   "execution_count": 9,
   "metadata": {},
   "outputs": [
    {
     "data": {
      "text/plain": [
       "1195"
      ]
     },
     "execution_count": 9,
     "metadata": {},
     "output_type": "execute_result"
    }
   ],
   "source": [
    "df_total['First Sem'].max()\n",
    "#maximum marks for first sem"
   ]
  },
  {
   "cell_type": "code",
   "execution_count": 10,
   "metadata": {},
   "outputs": [
    {
     "data": {
      "text/plain": [
       "1045"
      ]
     },
     "execution_count": 10,
     "metadata": {},
     "output_type": "execute_result"
    }
   ],
   "source": [
    "df_total['Second Sem'].max()\n",
    "#maximum marks for second sem"
   ]
  },
  {
   "cell_type": "code",
   "execution_count": 11,
   "metadata": {},
   "outputs": [
    {
     "data": {
      "text/plain": [
       "1016"
      ]
     },
     "execution_count": 11,
     "metadata": {},
     "output_type": "execute_result"
    }
   ],
   "source": [
    "df_total['Third Sem'].max()\n",
    "#maximum marks for third sem"
   ]
  },
  {
   "cell_type": "code",
   "execution_count": 40,
   "metadata": {},
   "outputs": [
    {
     "data": {
      "text/plain": [
       "(126, 3)"
      ]
     },
     "execution_count": 40,
     "metadata": {},
     "output_type": "execute_result"
    }
   ],
   "source": [
    "df_total[df_total[\"First Sem\"]>df_total[\"First Sem\"].min()+(0.9*(df_total[\"First Sem\"].max()-df_total[\"Second Sem\"].min()))].shape\n",
    "\n",
    "##126 students"
   ]
  },
  {
   "cell_type": "code",
   "execution_count": 38,
   "metadata": {},
   "outputs": [
    {
     "data": {
      "text/plain": [
       "(133, 3)"
      ]
     },
     "execution_count": 38,
     "metadata": {},
     "output_type": "execute_result"
    }
   ],
   "source": [
    "df_total[df_total[\"Second Sem\"]>df_total[\"Second Sem\"].min()+(0.9*(df_total[\"Second Sem\"].max()-df_total[\"Second Sem\"].min()))].shape\n",
    "\n",
    "##133 Students"
   ]
  },
  {
   "cell_type": "code",
   "execution_count": 39,
   "metadata": {},
   "outputs": [
    {
     "data": {
      "text/plain": [
       "(179, 3)"
      ]
     },
     "execution_count": 39,
     "metadata": {},
     "output_type": "execute_result"
    }
   ],
   "source": [
    "df_total[df_total[\"Third Sem\"]>df_total[\"Third Sem\"].min()+(0.9*(df_total[\"Third Sem\"].max()-df_total[\"Third Sem\"].min()))].shape\n",
    "\n",
    "##179 students"
   ]
  },
  {
   "cell_type": "code",
   "execution_count": null,
   "metadata": {},
   "outputs": [],
   "source": []
  },
  {
   "cell_type": "code",
   "execution_count": 7,
   "metadata": {},
   "outputs": [
    {
     "data": {
      "text/plain": [
       "<seaborn.axisgrid.JointGrid at 0x1fa313c1cf8>"
      ]
     },
     "execution_count": 7,
     "metadata": {},
     "output_type": "execute_result"
    },
    {
     "data": {
      "image/png": "[encoded data removed]",
      "text/plain": [
       "<Figure size 864x864 with 3 Axes>"
      ]
     },
     "metadata": {
      "needs_background": "light"
     },
     "output_type": "display_data"
    }
   ],
   "source": [
    "sns.jointplot(df_total['First Sem'], df_total['Second Sem'], kind=\"kde\", height=12, space=0)"
   ]
  },
  {
   "cell_type": "code",
   "execution_count": null,
   "metadata": {},
   "outputs": [],
   "source": []
  },
  {
   "cell_type": "markdown",
   "metadata": {},
   "source": [
    "### Here was a general trend to score high marks"
   ]
  },
  {
   "cell_type": "code",
   "execution_count": 8,
   "metadata": {},
   "outputs": [
    {
     "data": {
      "text/plain": [
       "<seaborn.axisgrid.JointGrid at 0x1fa31149940>"
      ]
     },
     "execution_count": 8,
     "metadata": {},
     "output_type": "execute_result"
    },
    {
     "data": {
      "image/png": "[encoded data removed]",
      "text/plain": [
       "<Figure size 720x720 with 3 Axes>"
      ]
     },
     "metadata": {
      "needs_background": "light"
     },
     "output_type": "display_data"
    }
   ],
   "source": [
    "sns.jointplot(df_total['Second Sem'], df_total['Third Sem'], kind=\"hex\", height=10, space=0)"
   ]
  },
  {
   "cell_type": "markdown",
   "metadata": {},
   "source": [
    "### A General increasing trend Above (Linear)"
   ]
  },
  {
   "cell_type": "code",
   "execution_count": null,
   "metadata": {},
   "outputs": [],
   "source": []
  }
 ],
 "metadata": {
  "kernelspec": {
   "display_name": "Python 3",
   "language": "python",
   "name": "python3"
  },
  "language_info": {
   "codemirror_mode": {
    "name": "ipython",
    "version": 3
   },
   "file_extension": ".py",
   "mimetype": "text/x-python",
   "name": "python",
   "nbconvert_exporter": "python",
   "pygments_lexer": "ipython3",
   "version": "3.7.3"
  }
 },
 "nbformat": 4,
 "nbformat_minor": 2
}
