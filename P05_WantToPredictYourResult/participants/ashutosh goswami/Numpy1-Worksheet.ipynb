{
 "cells": [
  {
   "cell_type": "markdown",
   "metadata": {},
   "source": [
    "#### Question-1 How is shape of ndarray stored? (Tuple/List/ndarray object?)"
   ]
  },
  {
   "cell_type": "code",
   "execution_count": 7,
   "metadata": {},
   "outputs": [
    {
     "name": "stdout",
     "output_type": "stream",
     "text": [
      "<class 'numpy.ndarray'>\n"
     ]
    }
   ],
   "source": [
    "## ndarray objects \n",
    "\n",
    "## as we know \n",
    "import numpy as np\n",
    "arr=[1,2,3,4,5,6,7,8]\n",
    "arr=np.array(arr)\n",
    "print(type(arr))"
   ]
  },
  {
   "cell_type": "markdown",
   "metadata": {},
   "source": [
    "#### Question-2 Create a 3D Matrix by all the possible methods you know"
   ]
  },
  {
   "cell_type": "code",
   "execution_count": 35,
   "metadata": {},
   "outputs": [
    {
     "name": "stdout",
     "output_type": "stream",
     "text": [
      "(1, 3, 2)\n",
      "(1, 2, 5)\n"
     ]
    }
   ],
   "source": [
    "arr=[[[1,2],[3,4],[5,6]]]\n",
    "arr1=np.array(arr)\n",
    "print(arr1.shape)\n",
    "arr2 = np.arange(10)\n",
    "arr3=arr2.reshape(1,2,5)\n",
    "print(arr3.shape)"
   ]
  },
  {
   "cell_type": "markdown",
   "metadata": {},
   "source": [
    "#### Question-3 Print The Remaining Elements here"
   ]
  },
  {
   "cell_type": "code",
   "execution_count": 37,
   "metadata": {},
   "outputs": [
    {
     "name": "stdout",
     "output_type": "stream",
     "text": [
      "[[[1 2]\n",
      "  [3 4]\n",
      "  [5 6]]]\n",
      "\n",
      "\n",
      "\n",
      "\n",
      "[[[0 1 2 3 4]\n",
      "  [5 6 7 8 9]]]\n"
     ]
    }
   ],
   "source": [
    "print(arr1)\n",
    "print('\\n\\n\\n')\n",
    "print(arr3)"
   ]
  },
  {
   "cell_type": "markdown",
   "metadata": {},
   "source": [
    "#### Question-4 Print a Descending Array of counting tuning the parameters in the arange method EX: [100,99,98......"
   ]
  },
  {
   "cell_type": "code",
   "execution_count": 10,
   "metadata": {},
   "outputs": [
    {
     "name": "stdout",
     "output_type": "stream",
     "text": [
      "[100  99  98  97  96  95  94  93  92  91  90  89  88  87  86  85  84  83\n",
      "  82  81  80  79  78  77  76  75  74  73  72  71  70  69  68  67  66  65\n",
      "  64  63  62  61  60  59  58  57  56  55  54  53  52  51  50  49  48  47\n",
      "  46  45  44  43  42  41  40  39  38  37  36  35  34  33  32  31  30  29\n",
      "  28  27  26  25  24  23  22  21  20  19  18  17  16  15  14  13  12  11\n",
      "  10   9   8   7   6   5   4   3   2]\n"
     ]
    }
   ],
   "source": [
    "counting = np.arange(100,1,-1) \n",
    "print(counting)"
   ]
  },
  {
   "cell_type": "markdown",
   "metadata": {},
   "source": [
    "#### Question-5 Create a 3D Array using arange function"
   ]
  },
  {
   "cell_type": "code",
   "execution_count": 13,
   "metadata": {},
   "outputs": [
    {
     "name": "stdout",
     "output_type": "stream",
     "text": [
      "[[[0 1 2 3 4]\n",
      "  [5 6 7 8 9]]]\n",
      "\n",
      "\n",
      "[[[0 1 2 3 4]]\n",
      "\n",
      " [[5 6 7 8 9]]]\n"
     ]
    }
   ],
   "source": [
    "arr = np.arange(10)\n",
    "arr1=arr.reshape(1,2,5)\n",
    "print(arr1)\n",
    "print('\\n')\n",
    "arr2=arr.reshape(2,1,5)\n",
    "print(arr2)\n"
   ]
  },
  {
   "cell_type": "markdown",
   "metadata": {},
   "source": [
    "#### Question-6 What's the difference between arr_back and arr_back_2?"
   ]
  },
  {
   "cell_type": "code",
   "execution_count": null,
   "metadata": {},
   "outputs": [],
   "source": [
    "###  row vector and column vector"
   ]
  },
  {
   "cell_type": "markdown",
   "metadata": {},
   "source": [
    "#### Question-7 Create a 3D array and try to select more than one element in it notice any difference?"
   ]
  },
  {
   "cell_type": "code",
   "execution_count": 29,
   "metadata": {},
   "outputs": [
    {
     "name": "stdout",
     "output_type": "stream",
     "text": [
      "[[[ 0  1  2  3  4]\n",
      "  [ 5  6  7  8  9]]\n",
      "\n",
      " [[10 11 12 13 14]\n",
      "  [15 16 17 18 19]]]\n",
      "\n",
      "\n",
      "[3 8]\n"
     ]
    }
   ],
   "source": [
    "arr = np.arange(20)\n",
    "arr1=arr.reshape(2,2,5)\n",
    "print(arr1)\n",
    "print('\\n')\n",
    "print(arr1[0,:,3])"
   ]
  },
  {
   "cell_type": "markdown",
   "metadata": {},
   "source": [
    "#### Question-8 Explore Deep Stacking and Column Stacking"
   ]
  },
  {
   "cell_type": "code",
   "execution_count": 38,
   "metadata": {},
   "outputs": [],
   "source": [
    "a = np.array([[1,2,3],[4,5,6],[7,8,9]])\n",
    "b = a**2\n",
    "\n"
   ]
  },
  {
   "cell_type": "code",
   "execution_count": 39,
   "metadata": {},
   "outputs": [
    {
     "data": {
      "text/plain": [
       "array([[1, 2, 3],\n",
       "       [4, 5, 6],\n",
       "       [7, 8, 9]])"
      ]
     },
     "execution_count": 39,
     "metadata": {},
     "output_type": "execute_result"
    }
   ],
   "source": [
    "a"
   ]
  },
  {
   "cell_type": "code",
   "execution_count": 40,
   "metadata": {},
   "outputs": [
    {
     "data": {
      "text/plain": [
       "array([[ 1,  4,  9],\n",
       "       [16, 25, 36],\n",
       "       [49, 64, 81]], dtype=int32)"
      ]
     },
     "execution_count": 40,
     "metadata": {},
     "output_type": "execute_result"
    }
   ],
   "source": [
    "b"
   ]
  },
  {
   "cell_type": "code",
   "execution_count": 44,
   "metadata": {},
   "outputs": [
    {
     "data": {
      "text/plain": [
       "array([[[ 1,  1],\n",
       "        [ 2,  4],\n",
       "        [ 3,  9]],\n",
       "\n",
       "       [[ 4, 16],\n",
       "        [ 5, 25],\n",
       "        [ 6, 36]],\n",
       "\n",
       "       [[ 7, 49],\n",
       "        [ 8, 64],\n",
       "        [ 9, 81]]])"
      ]
     },
     "execution_count": 44,
     "metadata": {},
     "output_type": "execute_result"
    }
   ],
   "source": [
    "arr_d=np.dstack((a,b))\n",
    "arr_d\n",
    "np.dstack"
   ]
  },
  {
   "cell_type": "markdown",
   "metadata": {},
   "source": [
    "#### Question-9 Explore The Opposite of Stacking - Splitting"
   ]
  },
  {
   "cell_type": "code",
   "execution_count": 53,
   "metadata": {},
   "outputs": [],
   "source": [
    "x = np.arange(16).reshape(2, 2, 4)\n"
   ]
  },
  {
   "cell_type": "code",
   "execution_count": 54,
   "metadata": {},
   "outputs": [
    {
     "name": "stdout",
     "output_type": "stream",
     "text": [
      "[[[ 0  1  2  3]\n",
      "  [ 4  5  6  7]]\n",
      "\n",
      " [[ 8  9 10 11]\n",
      "  [12 13 14 15]]]\n"
     ]
    }
   ],
   "source": [
    "print(x)"
   ]
  },
  {
   "cell_type": "code",
   "execution_count": 55,
   "metadata": {},
   "outputs": [
    {
     "data": {
      "text/plain": [
       "[array([[[ 0,  1],\n",
       "         [ 4,  5]],\n",
       " \n",
       "        [[ 8,  9],\n",
       "         [12, 13]]]), array([[[ 2,  3],\n",
       "         [ 6,  7]],\n",
       " \n",
       "        [[10, 11],\n",
       "         [14, 15]]])]"
      ]
     },
     "execution_count": 55,
     "metadata": {},
     "output_type": "execute_result"
    }
   ],
   "source": [
    "np.dsplit(x,2)"
   ]
  },
  {
   "cell_type": "code",
   "execution_count": null,
   "metadata": {},
   "outputs": [],
   "source": []
  }
 ],
 "metadata": {
  "kernelspec": {
   "display_name": "Python 3",
   "language": "python",
   "name": "python3"
  },
  "language_info": {
   "codemirror_mode": {
    "name": "ipython",
    "version": 3
   },
   "file_extension": ".py",
   "mimetype": "text/x-python",
   "name": "python",
   "nbconvert_exporter": "python",
   "pygments_lexer": "ipython3",
   "version": "3.7.3"
  }
 },
 "nbformat": 4,
 "nbformat_minor": 2
}
