{
 "cells": [
  {
   "cell_type": "code",
   "execution_count": 127,
   "metadata": {},
   "outputs": [],
   "source": [
    "import numpy as np\n",
    "import pandas as pd\n",
    "import matplotlib.pyplot as plt"
   ]
  },
  {
   "cell_type": "code",
   "execution_count": 128,
   "metadata": {},
   "outputs": [],
   "source": [
    "df = pd.read_excel('https://query.data.world/s/bqrnga7n5nhps5yn5cbiarzdbqv2os')"
   ]
  },
  {
   "cell_type": "code",
   "execution_count": 129,
   "metadata": {},
   "outputs": [
    {
     "data": {
      "text/html": [
       "<div>\n",
       "<style scoped>\n",
       "    .dataframe tbody tr th:only-of-type {\n",
       "        vertical-align: middle;\n",
       "    }\n",
       "\n",
       "    .dataframe tbody tr th {\n",
       "        vertical-align: top;\n",
       "    }\n",
       "\n",
       "    .dataframe thead th {\n",
       "        text-align: right;\n",
       "    }\n",
       "</style>\n",
       "<table border=\"1\" class=\"dataframe\">\n",
       "  <thead>\n",
       "    <tr style=\"text-align: right;\">\n",
       "      <th></th>\n",
       "      <th>Party</th>\n",
       "      <th>Name</th>\n",
       "      <th>Type</th>\n",
       "      <th>Address</th>\n",
       "      <th>PAN Given</th>\n",
       "      <th>Amount</th>\n",
       "      <th>Contribution Mode</th>\n",
       "      <th>Financial Year</th>\n",
       "      <th>Unnamed: 8</th>\n",
       "      <th>Unnamed: 9</th>\n",
       "      <th>Unnamed: 10</th>\n",
       "      <th>Unnamed: 11</th>\n",
       "      <th>Unnamed: 12</th>\n",
       "      <th>Unnamed: 13</th>\n",
       "    </tr>\n",
       "  </thead>\n",
       "  <tbody>\n",
       "    <tr>\n",
       "      <th>0</th>\n",
       "      <td>CPI</td>\n",
       "      <td>Aziz Pasha</td>\n",
       "      <td>Others</td>\n",
       "      <td>16-B, Ferozeshah Road New Delhi-1</td>\n",
       "      <td>Y</td>\n",
       "      <td>3000000</td>\n",
       "      <td>CASH</td>\n",
       "      <td>2010-11</td>\n",
       "      <td>NaN</td>\n",
       "      <td>NaN</td>\n",
       "      <td>NaN</td>\n",
       "      <td>NaN</td>\n",
       "      <td>NaN</td>\n",
       "      <td>NaN</td>\n",
       "    </tr>\n",
       "    <tr>\n",
       "      <th>1</th>\n",
       "      <td>CPI(M)</td>\n",
       "      <td>V K Ramachandran</td>\n",
       "      <td>Others</td>\n",
       "      <td>No.1, First Floor Main Road Domlur Second Stag...</td>\n",
       "      <td>Y</td>\n",
       "      <td>10000000</td>\n",
       "      <td>000037, HDFC Bank Bengaluru, Dt. 16.03.2015, 5...</td>\n",
       "      <td>2014-15</td>\n",
       "      <td>NaN</td>\n",
       "      <td>NaN</td>\n",
       "      <td>NaN</td>\n",
       "      <td>NaN</td>\n",
       "      <td>NaN</td>\n",
       "      <td>NaN</td>\n",
       "    </tr>\n",
       "    <tr>\n",
       "      <th>2</th>\n",
       "      <td>INC</td>\n",
       "      <td>Dr. Manmohan Singh</td>\n",
       "      <td>Others</td>\n",
       "      <td>3, Motilal Nehru Place New Delhi</td>\n",
       "      <td>N</td>\n",
       "      <td>108000</td>\n",
       "      <td>Cheque, State Bank of India Parliament House N...</td>\n",
       "      <td>2014-15</td>\n",
       "      <td>NaN</td>\n",
       "      <td>NaN</td>\n",
       "      <td>NaN</td>\n",
       "      <td>NaN</td>\n",
       "      <td>NaN</td>\n",
       "      <td>NaN</td>\n",
       "    </tr>\n",
       "    <tr>\n",
       "      <th>3</th>\n",
       "      <td>INC</td>\n",
       "      <td>Dr. Manda Jagnathan</td>\n",
       "      <td>Others</td>\n",
       "      <td>9,Firozshah Road New Delhi</td>\n",
       "      <td>N</td>\n",
       "      <td>54000</td>\n",
       "      <td>Through Bank Transfer</td>\n",
       "      <td>2011-12</td>\n",
       "      <td>NaN</td>\n",
       "      <td>NaN</td>\n",
       "      <td>NaN</td>\n",
       "      <td>NaN</td>\n",
       "      <td>NaN</td>\n",
       "      <td>NaN</td>\n",
       "    </tr>\n",
       "    <tr>\n",
       "      <th>4</th>\n",
       "      <td>INC</td>\n",
       "      <td>Prof. K.V.Thomas</td>\n",
       "      <td>Others</td>\n",
       "      <td>17,Dr.B.R.Mehta Lane New Delhi</td>\n",
       "      <td>N</td>\n",
       "      <td>54000</td>\n",
       "      <td>Through Bank Transfer</td>\n",
       "      <td>2011-12</td>\n",
       "      <td>NaN</td>\n",
       "      <td>NaN</td>\n",
       "      <td>NaN</td>\n",
       "      <td>NaN</td>\n",
       "      <td>NaN</td>\n",
       "      <td>NaN</td>\n",
       "    </tr>\n",
       "  </tbody>\n",
       "</table>\n",
       "</div>"
      ],
      "text/plain": [
       "    Party                 Name    Type  \\\n",
       "0     CPI           Aziz Pasha  Others   \n",
       "1  CPI(M)     V K Ramachandran  Others   \n",
       "2     INC   Dr. Manmohan Singh  Others   \n",
       "3     INC  Dr. Manda Jagnathan  Others   \n",
       "4     INC     Prof. K.V.Thomas  Others   \n",
       "\n",
       "                                             Address PAN Given    Amount  \\\n",
       "0                  16-B, Ferozeshah Road New Delhi-1         Y   3000000   \n",
       "1  No.1, First Floor Main Road Domlur Second Stag...         Y  10000000   \n",
       "2                   3, Motilal Nehru Place New Delhi         N    108000   \n",
       "3                        9,Firozshah Road New Delhi          N     54000   \n",
       "4                     17,Dr.B.R.Mehta Lane New Delhi         N     54000   \n",
       "\n",
       "                                   Contribution Mode Financial Year   \\\n",
       "0                                               CASH         2010-11   \n",
       "1  000037, HDFC Bank Bengaluru, Dt. 16.03.2015, 5...         2014-15   \n",
       "2  Cheque, State Bank of India Parliament House N...         2014-15   \n",
       "3                              Through Bank Transfer         2011-12   \n",
       "4                              Through Bank Transfer         2011-12   \n",
       "\n",
       "   Unnamed: 8  Unnamed: 9 Unnamed: 10  Unnamed: 11  Unnamed: 12 Unnamed: 13  \n",
       "0         NaN         NaN         NaN          NaN          NaN         NaN  \n",
       "1         NaN         NaN         NaN          NaN          NaN         NaN  \n",
       "2         NaN         NaN         NaN          NaN          NaN         NaN  \n",
       "3         NaN         NaN         NaN          NaN          NaN         NaN  \n",
       "4         NaN         NaN         NaN          NaN          NaN         NaN  "
      ]
     },
     "execution_count": 129,
     "metadata": {},
     "output_type": "execute_result"
    }
   ],
   "source": [
    "df.head()"
   ]
  },
  {
   "cell_type": "code",
   "execution_count": 130,
   "metadata": {},
   "outputs": [
    {
     "data": {
      "text/plain": [
       "(13573, 14)"
      ]
     },
     "execution_count": 130,
     "metadata": {},
     "output_type": "execute_result"
    }
   ],
   "source": [
    "df.shape #no.of rows and col"
   ]
  },
  {
   "cell_type": "markdown",
   "metadata": {},
   "source": [
    "### Test of Freedom :  Get Creative"
   ]
  },
  {
   "cell_type": "markdown",
   "metadata": {},
   "source": [
    "#### __Google and find some cool visualizations using matplotlib, you have complete freedom do some cool visualizations as you see fit with the data using this dataset. Remove the Nan Columns (Unnamed 8 to Unnamed 13) and create the magic__"
   ]
  },
  {
   "cell_type": "markdown",
   "metadata": {},
   "source": [
    "[Matplotlib Cheat Sheet](https://s3.amazonaws.com/assets.datacamp.com/blog_assets/Python_Matplotlib_Cheat_Sheet.pdf)\n",
    "\n",
    "[Examples](https://python-graph-gallery.com/matplotlib/)"
   ]
  },
  {
   "cell_type": "code",
   "execution_count": 131,
   "metadata": {},
   "outputs": [
    {
     "data": {
      "text/html": [
       "<div>\n",
       "<style scoped>\n",
       "    .dataframe tbody tr th:only-of-type {\n",
       "        vertical-align: middle;\n",
       "    }\n",
       "\n",
       "    .dataframe tbody tr th {\n",
       "        vertical-align: top;\n",
       "    }\n",
       "\n",
       "    .dataframe thead th {\n",
       "        text-align: right;\n",
       "    }\n",
       "</style>\n",
       "<table border=\"1\" class=\"dataframe\">\n",
       "  <thead>\n",
       "    <tr style=\"text-align: right;\">\n",
       "      <th></th>\n",
       "      <th>Party</th>\n",
       "      <th>Name</th>\n",
       "      <th>Type</th>\n",
       "      <th>Address</th>\n",
       "      <th>PAN Given</th>\n",
       "      <th>Amount</th>\n",
       "      <th>Contribution Mode</th>\n",
       "      <th>Financial Year</th>\n",
       "    </tr>\n",
       "  </thead>\n",
       "  <tbody>\n",
       "    <tr>\n",
       "      <th>0</th>\n",
       "      <td>CPI</td>\n",
       "      <td>Aziz Pasha</td>\n",
       "      <td>Others</td>\n",
       "      <td>16-B, Ferozeshah Road New Delhi-1</td>\n",
       "      <td>Y</td>\n",
       "      <td>3000000</td>\n",
       "      <td>CASH</td>\n",
       "      <td>2010-11</td>\n",
       "    </tr>\n",
       "    <tr>\n",
       "      <th>1</th>\n",
       "      <td>CPI(M)</td>\n",
       "      <td>V K Ramachandran</td>\n",
       "      <td>Others</td>\n",
       "      <td>No.1, First Floor Main Road Domlur Second Stag...</td>\n",
       "      <td>Y</td>\n",
       "      <td>10000000</td>\n",
       "      <td>000037, HDFC Bank Bengaluru, Dt. 16.03.2015, 5...</td>\n",
       "      <td>2014-15</td>\n",
       "    </tr>\n",
       "    <tr>\n",
       "      <th>2</th>\n",
       "      <td>INC</td>\n",
       "      <td>Dr. Manmohan Singh</td>\n",
       "      <td>Others</td>\n",
       "      <td>3, Motilal Nehru Place New Delhi</td>\n",
       "      <td>N</td>\n",
       "      <td>108000</td>\n",
       "      <td>Cheque, State Bank of India Parliament House N...</td>\n",
       "      <td>2014-15</td>\n",
       "    </tr>\n",
       "    <tr>\n",
       "      <th>3</th>\n",
       "      <td>INC</td>\n",
       "      <td>Dr. Manda Jagnathan</td>\n",
       "      <td>Others</td>\n",
       "      <td>9,Firozshah Road New Delhi</td>\n",
       "      <td>N</td>\n",
       "      <td>54000</td>\n",
       "      <td>Through Bank Transfer</td>\n",
       "      <td>2011-12</td>\n",
       "    </tr>\n",
       "    <tr>\n",
       "      <th>4</th>\n",
       "      <td>INC</td>\n",
       "      <td>Prof. K.V.Thomas</td>\n",
       "      <td>Others</td>\n",
       "      <td>17,Dr.B.R.Mehta Lane New Delhi</td>\n",
       "      <td>N</td>\n",
       "      <td>54000</td>\n",
       "      <td>Through Bank Transfer</td>\n",
       "      <td>2011-12</td>\n",
       "    </tr>\n",
       "  </tbody>\n",
       "</table>\n",
       "</div>"
      ],
      "text/plain": [
       "    Party                 Name    Type  \\\n",
       "0     CPI           Aziz Pasha  Others   \n",
       "1  CPI(M)     V K Ramachandran  Others   \n",
       "2     INC   Dr. Manmohan Singh  Others   \n",
       "3     INC  Dr. Manda Jagnathan  Others   \n",
       "4     INC     Prof. K.V.Thomas  Others   \n",
       "\n",
       "                                             Address PAN Given    Amount  \\\n",
       "0                  16-B, Ferozeshah Road New Delhi-1         Y   3000000   \n",
       "1  No.1, First Floor Main Road Domlur Second Stag...         Y  10000000   \n",
       "2                   3, Motilal Nehru Place New Delhi         N    108000   \n",
       "3                        9,Firozshah Road New Delhi          N     54000   \n",
       "4                     17,Dr.B.R.Mehta Lane New Delhi         N     54000   \n",
       "\n",
       "                                   Contribution Mode Financial Year   \n",
       "0                                               CASH         2010-11  \n",
       "1  000037, HDFC Bank Bengaluru, Dt. 16.03.2015, 5...         2014-15  \n",
       "2  Cheque, State Bank of India Parliament House N...         2014-15  \n",
       "3                              Through Bank Transfer         2011-12  \n",
       "4                              Through Bank Transfer         2011-12  "
      ]
     },
     "execution_count": 131,
     "metadata": {},
     "output_type": "execute_result"
    }
   ],
   "source": [
    "#removing all columns which contain UNNAMED.\n",
    "df = df[df.columns.drop(list(df.filter(regex='Unnamed')))]\n",
    "df.head()"
   ]
  },
  {
   "cell_type": "code",
   "execution_count": 132,
   "metadata": {},
   "outputs": [
    {
     "data": {
      "text/plain": [
       "(13573, 8)"
      ]
     },
     "execution_count": 132,
     "metadata": {},
     "output_type": "execute_result"
    }
   ],
   "source": [
    "df.shape #6 columns removed"
   ]
  },
  {
   "cell_type": "code",
   "execution_count": 133,
   "metadata": {},
   "outputs": [
    {
     "data": {
      "text/plain": [
       "array(['CPI', 'CPI(M)', 'INC', 'BJP', 'NCP'], dtype=object)"
      ]
     },
     "execution_count": 133,
     "metadata": {},
     "output_type": "execute_result"
    }
   ],
   "source": [
    "df['Party'].unique()"
   ]
  },
  {
   "cell_type": "code",
   "execution_count": 134,
   "metadata": {},
   "outputs": [
    {
     "data": {
      "text/plain": [
       "array(['CASH',\n",
       "       '000037, HDFC Bank Bengaluru, Dt. 16.03.2015, 5530, Dt. 16.03.2015',\n",
       "       'Cheque, State Bank of India Parliament House New Delhi', ...,\n",
       "       '250507BANK OF BARODA', '901983, Bank of Baroda',\n",
       "       'Ch No- 170996, Date 31-03-2014, Bank Of Baroda Ahmadabad Branch'],\n",
       "      dtype=object)"
      ]
     },
     "execution_count": 134,
     "metadata": {},
     "output_type": "execute_result"
    }
   ],
   "source": [
    "df['Contribution Mode'].unique()"
   ]
  },
  {
   "cell_type": "code",
   "execution_count": 135,
   "metadata": {},
   "outputs": [
    {
     "data": {
      "text/plain": [
       "array(['2010-11', '2014-15', '2011-12', '2013-14', '2004-05', '2012-13',\n",
       "       '2008-09', '2009-10', '2005-06', '2007-08', '2006-07', '2003-04'],\n",
       "      dtype=object)"
      ]
     },
     "execution_count": 135,
     "metadata": {},
     "output_type": "execute_result"
    }
   ],
   "source": [
    "df['Financial Year '].unique()"
   ]
  },
  {
   "cell_type": "code",
   "execution_count": 136,
   "metadata": {},
   "outputs": [
    {
     "data": {
      "text/plain": [
       "1045728.3275620717"
      ]
     },
     "execution_count": 136,
     "metadata": {},
     "output_type": "execute_result"
    }
   ],
   "source": [
    "df['Amount'].mean()#average amount "
   ]
  },
  {
   "cell_type": "code",
   "execution_count": 137,
   "metadata": {},
   "outputs": [
    {
     "data": {
      "text/plain": [
       "array(['Others', 'Electoral Trust'], dtype=object)"
      ]
     },
     "execution_count": 137,
     "metadata": {},
     "output_type": "execute_result"
    }
   ],
   "source": [
    "df['Type'].unique()"
   ]
  },
  {
   "cell_type": "code",
   "execution_count": 138,
   "metadata": {},
   "outputs": [
    {
     "data": {
      "text/html": [
       "<div>\n",
       "<style scoped>\n",
       "    .dataframe tbody tr th:only-of-type {\n",
       "        vertical-align: middle;\n",
       "    }\n",
       "\n",
       "    .dataframe tbody tr th {\n",
       "        vertical-align: top;\n",
       "    }\n",
       "\n",
       "    .dataframe thead th {\n",
       "        text-align: right;\n",
       "    }\n",
       "</style>\n",
       "<table border=\"1\" class=\"dataframe\">\n",
       "  <thead>\n",
       "    <tr style=\"text-align: right;\">\n",
       "      <th></th>\n",
       "      <th></th>\n",
       "      <th>Amount</th>\n",
       "    </tr>\n",
       "    <tr>\n",
       "      <th>Party</th>\n",
       "      <th>Financial Year</th>\n",
       "      <th></th>\n",
       "    </tr>\n",
       "  </thead>\n",
       "  <tbody>\n",
       "    <tr>\n",
       "      <th rowspan=\"5\" valign=\"top\">BJP</th>\n",
       "      <th>2003-04</th>\n",
       "      <td>116881973</td>\n",
       "    </tr>\n",
       "    <tr>\n",
       "      <th>2004-05</th>\n",
       "      <td>339521289</td>\n",
       "    </tr>\n",
       "    <tr>\n",
       "      <th>2005-06</th>\n",
       "      <td>36156111</td>\n",
       "    </tr>\n",
       "    <tr>\n",
       "      <th>2006-07</th>\n",
       "      <td>29550672</td>\n",
       "    </tr>\n",
       "    <tr>\n",
       "      <th>2007-08</th>\n",
       "      <td>249623653</td>\n",
       "    </tr>\n",
       "  </tbody>\n",
       "</table>\n",
       "</div>"
      ],
      "text/plain": [
       "                          Amount\n",
       "Party Financial Year            \n",
       "BJP   2003-04          116881973\n",
       "      2004-05          339521289\n",
       "      2005-06           36156111\n",
       "      2006-07           29550672\n",
       "      2007-08          249623653"
      ]
     },
     "execution_count": 138,
     "metadata": {},
     "output_type": "execute_result"
    }
   ],
   "source": [
    "df1 = df.groupby(['Party','Financial Year ']).sum()\n",
    "df1.head()"
   ]
  },
  {
   "cell_type": "code",
   "execution_count": 139,
   "metadata": {},
   "outputs": [
    {
     "data": {
      "text/plain": [
       "Financial Year \n",
       "2003-04     116881973\n",
       "2004-05     339521289\n",
       "2005-06      36156111\n",
       "2006-07      29550672\n",
       "2007-08     249623653\n",
       "2008-09     306057231\n",
       "2009-10     823220133\n",
       "2010-11     146253279\n",
       "2011-12     334194113\n",
       "2012-13     831924462\n",
       "2013-14    1708636182\n",
       "2014-15    4373506898\n",
       "Name: Amount, dtype: int64"
      ]
     },
     "execution_count": 139,
     "metadata": {},
     "output_type": "execute_result"
    }
   ],
   "source": [
    "df1.loc['BJP','Amount']"
   ]
  },
  {
   "cell_type": "code",
   "execution_count": 140,
   "metadata": {},
   "outputs": [],
   "source": [
    "#Let's create a new data frame with financial years as index and party's as columns\n",
    "df2 = pd.DataFrame()"
   ]
  },
  {
   "cell_type": "code",
   "execution_count": 141,
   "metadata": {},
   "outputs": [],
   "source": [
    "df2['BJP'] = df1.loc['BJP','Amount']\n",
    "df2['CPI'] = df1.loc['CPI','Amount']\n",
    "df2['CPI(M)'] = df1.loc['CPI(M)','Amount']\n",
    "df2['INC'] = df1.loc['INC','Amount']\n",
    "df2['NCP'] = df1.loc['NCP','Amount']"
   ]
  },
  {
   "cell_type": "code",
   "execution_count": 142,
   "metadata": {},
   "outputs": [
    {
     "data": {
      "text/html": [
       "<div>\n",
       "<style scoped>\n",
       "    .dataframe tbody tr th:only-of-type {\n",
       "        vertical-align: middle;\n",
       "    }\n",
       "\n",
       "    .dataframe tbody tr th {\n",
       "        vertical-align: top;\n",
       "    }\n",
       "\n",
       "    .dataframe thead th {\n",
       "        text-align: right;\n",
       "    }\n",
       "</style>\n",
       "<table border=\"1\" class=\"dataframe\">\n",
       "  <thead>\n",
       "    <tr style=\"text-align: right;\">\n",
       "      <th></th>\n",
       "      <th>BJP</th>\n",
       "      <th>CPI</th>\n",
       "      <th>CPI(M)</th>\n",
       "      <th>INC</th>\n",
       "      <th>NCP</th>\n",
       "    </tr>\n",
       "    <tr>\n",
       "      <th>Financial Year</th>\n",
       "      <th></th>\n",
       "      <th></th>\n",
       "      <th></th>\n",
       "      <th></th>\n",
       "      <th></th>\n",
       "    </tr>\n",
       "  </thead>\n",
       "  <tbody>\n",
       "    <tr>\n",
       "      <th>2003-04</th>\n",
       "      <td>116881973</td>\n",
       "      <td>779148</td>\n",
       "      <td>200000</td>\n",
       "      <td>28301101</td>\n",
       "      <td>NaN</td>\n",
       "    </tr>\n",
       "    <tr>\n",
       "      <th>2004-05</th>\n",
       "      <td>339521289</td>\n",
       "      <td>630000</td>\n",
       "      <td>896355</td>\n",
       "      <td>320555643</td>\n",
       "      <td>NaN</td>\n",
       "    </tr>\n",
       "    <tr>\n",
       "      <th>2005-06</th>\n",
       "      <td>36156111</td>\n",
       "      <td>3988690</td>\n",
       "      <td>550000</td>\n",
       "      <td>59212492</td>\n",
       "      <td>NaN</td>\n",
       "    </tr>\n",
       "    <tr>\n",
       "      <th>2006-07</th>\n",
       "      <td>29550672</td>\n",
       "      <td>1229400</td>\n",
       "      <td>1124719</td>\n",
       "      <td>121273513</td>\n",
       "      <td>NaN</td>\n",
       "    </tr>\n",
       "    <tr>\n",
       "      <th>2007-08</th>\n",
       "      <td>249623653</td>\n",
       "      <td>4125800</td>\n",
       "      <td>7226116</td>\n",
       "      <td>78873451</td>\n",
       "      <td>10225000.0</td>\n",
       "    </tr>\n",
       "    <tr>\n",
       "      <th>2008-09</th>\n",
       "      <td>306057231</td>\n",
       "      <td>2585000</td>\n",
       "      <td>4155000</td>\n",
       "      <td>279018460</td>\n",
       "      <td>56091000.0</td>\n",
       "    </tr>\n",
       "    <tr>\n",
       "      <th>2009-10</th>\n",
       "      <td>823220133</td>\n",
       "      <td>8667852</td>\n",
       "      <td>3962049</td>\n",
       "      <td>840521238</td>\n",
       "      <td>30300000.0</td>\n",
       "    </tr>\n",
       "    <tr>\n",
       "      <th>2010-11</th>\n",
       "      <td>146253279</td>\n",
       "      <td>10811465</td>\n",
       "      <td>15357072</td>\n",
       "      <td>80205884</td>\n",
       "      <td>1355000.0</td>\n",
       "    </tr>\n",
       "    <tr>\n",
       "      <th>2011-12</th>\n",
       "      <td>334194113</td>\n",
       "      <td>5982675</td>\n",
       "      <td>23838657</td>\n",
       "      <td>95910664</td>\n",
       "      <td>21000000.0</td>\n",
       "    </tr>\n",
       "    <tr>\n",
       "      <th>2012-13</th>\n",
       "      <td>831924462</td>\n",
       "      <td>3695449</td>\n",
       "      <td>38139996</td>\n",
       "      <td>117166225</td>\n",
       "      <td>504000.0</td>\n",
       "    </tr>\n",
       "    <tr>\n",
       "      <th>2013-14</th>\n",
       "      <td>1708636182</td>\n",
       "      <td>12281544</td>\n",
       "      <td>20974666</td>\n",
       "      <td>595837728</td>\n",
       "      <td>140200000.0</td>\n",
       "    </tr>\n",
       "    <tr>\n",
       "      <th>2014-15</th>\n",
       "      <td>4373506898</td>\n",
       "      <td>13346675</td>\n",
       "      <td>34197498</td>\n",
       "      <td>1414610950</td>\n",
       "      <td>388236419.0</td>\n",
       "    </tr>\n",
       "  </tbody>\n",
       "</table>\n",
       "</div>"
      ],
      "text/plain": [
       "                        BJP       CPI    CPI(M)         INC          NCP\n",
       "Financial Year                                                          \n",
       "2003-04           116881973    779148    200000    28301101          NaN\n",
       "2004-05           339521289    630000    896355   320555643          NaN\n",
       "2005-06            36156111   3988690    550000    59212492          NaN\n",
       "2006-07            29550672   1229400   1124719   121273513          NaN\n",
       "2007-08           249623653   4125800   7226116    78873451   10225000.0\n",
       "2008-09           306057231   2585000   4155000   279018460   56091000.0\n",
       "2009-10           823220133   8667852   3962049   840521238   30300000.0\n",
       "2010-11           146253279  10811465  15357072    80205884    1355000.0\n",
       "2011-12           334194113   5982675  23838657    95910664   21000000.0\n",
       "2012-13           831924462   3695449  38139996   117166225     504000.0\n",
       "2013-14          1708636182  12281544  20974666   595837728  140200000.0\n",
       "2014-15          4373506898  13346675  34197498  1414610950  388236419.0"
      ]
     },
     "execution_count": 142,
     "metadata": {},
     "output_type": "execute_result"
    }
   ],
   "source": [
    "df2"
   ]
  },
  {
   "cell_type": "code",
   "execution_count": 143,
   "metadata": {},
   "outputs": [],
   "source": [
    "#Filling the nan values to 0\n",
    "df2.fillna(value=0,inplace=True)"
   ]
  },
  {
   "cell_type": "code",
   "execution_count": 144,
   "metadata": {},
   "outputs": [
    {
     "data": {
      "text/html": [
       "<div>\n",
       "<style scoped>\n",
       "    .dataframe tbody tr th:only-of-type {\n",
       "        vertical-align: middle;\n",
       "    }\n",
       "\n",
       "    .dataframe tbody tr th {\n",
       "        vertical-align: top;\n",
       "    }\n",
       "\n",
       "    .dataframe thead th {\n",
       "        text-align: right;\n",
       "    }\n",
       "</style>\n",
       "<table border=\"1\" class=\"dataframe\">\n",
       "  <thead>\n",
       "    <tr style=\"text-align: right;\">\n",
       "      <th></th>\n",
       "      <th>BJP</th>\n",
       "      <th>CPI</th>\n",
       "      <th>CPI(M)</th>\n",
       "      <th>INC</th>\n",
       "      <th>NCP</th>\n",
       "    </tr>\n",
       "    <tr>\n",
       "      <th>Financial Year</th>\n",
       "      <th></th>\n",
       "      <th></th>\n",
       "      <th></th>\n",
       "      <th></th>\n",
       "      <th></th>\n",
       "    </tr>\n",
       "  </thead>\n",
       "  <tbody>\n",
       "    <tr>\n",
       "      <th>2003-04</th>\n",
       "      <td>116881973</td>\n",
       "      <td>779148</td>\n",
       "      <td>200000</td>\n",
       "      <td>28301101</td>\n",
       "      <td>0.0</td>\n",
       "    </tr>\n",
       "    <tr>\n",
       "      <th>2004-05</th>\n",
       "      <td>339521289</td>\n",
       "      <td>630000</td>\n",
       "      <td>896355</td>\n",
       "      <td>320555643</td>\n",
       "      <td>0.0</td>\n",
       "    </tr>\n",
       "    <tr>\n",
       "      <th>2005-06</th>\n",
       "      <td>36156111</td>\n",
       "      <td>3988690</td>\n",
       "      <td>550000</td>\n",
       "      <td>59212492</td>\n",
       "      <td>0.0</td>\n",
       "    </tr>\n",
       "    <tr>\n",
       "      <th>2006-07</th>\n",
       "      <td>29550672</td>\n",
       "      <td>1229400</td>\n",
       "      <td>1124719</td>\n",
       "      <td>121273513</td>\n",
       "      <td>0.0</td>\n",
       "    </tr>\n",
       "    <tr>\n",
       "      <th>2007-08</th>\n",
       "      <td>249623653</td>\n",
       "      <td>4125800</td>\n",
       "      <td>7226116</td>\n",
       "      <td>78873451</td>\n",
       "      <td>10225000.0</td>\n",
       "    </tr>\n",
       "  </tbody>\n",
       "</table>\n",
       "</div>"
      ],
      "text/plain": [
       "                       BJP      CPI   CPI(M)        INC         NCP\n",
       "Financial Year                                                     \n",
       "2003-04          116881973   779148   200000   28301101         0.0\n",
       "2004-05          339521289   630000   896355  320555643         0.0\n",
       "2005-06           36156111  3988690   550000   59212492         0.0\n",
       "2006-07           29550672  1229400  1124719  121273513         0.0\n",
       "2007-08          249623653  4125800  7226116   78873451  10225000.0"
      ]
     },
     "execution_count": 144,
     "metadata": {},
     "output_type": "execute_result"
    }
   ],
   "source": [
    "df2.head()"
   ]
  },
  {
   "cell_type": "code",
   "execution_count": 145,
   "metadata": {},
   "outputs": [
    {
     "data": {
      "image/png": "[encoded data removed]",
      "text/plain": [
       "<Figure size 1080x504 with 1 Axes>"
      ]
     },
     "metadata": {
      "needs_background": "light"
     },
     "output_type": "display_data"
    }
   ],
   "source": [
    "df2.plot(kind='area',figsize=(15,7))\n",
    "plt.ylabel(\"Donation Amount (Rupees)\")\n",
    "plt.xlabel(\"Parties\")\n",
    "plt.show() "
   ]
  },
  {
   "cell_type": "code",
   "execution_count": 146,
   "metadata": {},
   "outputs": [
    {
     "data": {
      "text/html": [
       "<div>\n",
       "<style scoped>\n",
       "    .dataframe tbody tr th:only-of-type {\n",
       "        vertical-align: middle;\n",
       "    }\n",
       "\n",
       "    .dataframe tbody tr th {\n",
       "        vertical-align: top;\n",
       "    }\n",
       "\n",
       "    .dataframe thead th {\n",
       "        text-align: right;\n",
       "    }\n",
       "</style>\n",
       "<table border=\"1\" class=\"dataframe\">\n",
       "  <thead>\n",
       "    <tr style=\"text-align: right;\">\n",
       "      <th></th>\n",
       "      <th></th>\n",
       "      <th>Amount</th>\n",
       "    </tr>\n",
       "    <tr>\n",
       "      <th>Type</th>\n",
       "      <th>Financial Year</th>\n",
       "      <th></th>\n",
       "    </tr>\n",
       "  </thead>\n",
       "  <tbody>\n",
       "    <tr>\n",
       "      <th rowspan=\"11\" valign=\"top\">Electoral Trust</th>\n",
       "      <th>2003-04</th>\n",
       "      <td>5000000</td>\n",
       "    </tr>\n",
       "    <tr>\n",
       "      <th>2004-05</th>\n",
       "      <td>209257237</td>\n",
       "    </tr>\n",
       "    <tr>\n",
       "      <th>2005-06</th>\n",
       "      <td>3500000</td>\n",
       "    </tr>\n",
       "    <tr>\n",
       "      <th>2006-07</th>\n",
       "      <td>100000000</td>\n",
       "    </tr>\n",
       "    <tr>\n",
       "      <th>2007-08</th>\n",
       "      <td>57600000</td>\n",
       "    </tr>\n",
       "    <tr>\n",
       "      <th>2008-09</th>\n",
       "      <td>190030000</td>\n",
       "    </tr>\n",
       "    <tr>\n",
       "      <th>2009-10</th>\n",
       "      <td>484375414</td>\n",
       "    </tr>\n",
       "    <tr>\n",
       "      <th>2011-12</th>\n",
       "      <td>15000000</td>\n",
       "    </tr>\n",
       "    <tr>\n",
       "      <th>2012-13</th>\n",
       "      <td>75000000</td>\n",
       "    </tr>\n",
       "    <tr>\n",
       "      <th>2013-14</th>\n",
       "      <td>818720000</td>\n",
       "    </tr>\n",
       "    <tr>\n",
       "      <th>2014-15</th>\n",
       "      <td>2670875751</td>\n",
       "    </tr>\n",
       "    <tr>\n",
       "      <th rowspan=\"12\" valign=\"top\">Others</th>\n",
       "      <th>2003-04</th>\n",
       "      <td>141162222</td>\n",
       "    </tr>\n",
       "    <tr>\n",
       "      <th>2004-05</th>\n",
       "      <td>452346050</td>\n",
       "    </tr>\n",
       "    <tr>\n",
       "      <th>2005-06</th>\n",
       "      <td>96407293</td>\n",
       "    </tr>\n",
       "    <tr>\n",
       "      <th>2006-07</th>\n",
       "      <td>53178304</td>\n",
       "    </tr>\n",
       "    <tr>\n",
       "      <th>2007-08</th>\n",
       "      <td>292474020</td>\n",
       "    </tr>\n",
       "    <tr>\n",
       "      <th>2008-09</th>\n",
       "      <td>457876691</td>\n",
       "    </tr>\n",
       "    <tr>\n",
       "      <th>2009-10</th>\n",
       "      <td>1222295858</td>\n",
       "    </tr>\n",
       "    <tr>\n",
       "      <th>2010-11</th>\n",
       "      <td>253982700</td>\n",
       "    </tr>\n",
       "    <tr>\n",
       "      <th>2011-12</th>\n",
       "      <td>465926109</td>\n",
       "    </tr>\n",
       "    <tr>\n",
       "      <th>2012-13</th>\n",
       "      <td>916430132</td>\n",
       "    </tr>\n",
       "    <tr>\n",
       "      <th>2013-14</th>\n",
       "      <td>1659210120</td>\n",
       "    </tr>\n",
       "    <tr>\n",
       "      <th>2014-15</th>\n",
       "      <td>3553022689</td>\n",
       "    </tr>\n",
       "  </tbody>\n",
       "</table>\n",
       "</div>"
      ],
      "text/plain": [
       "                                     Amount\n",
       "Type            Financial Year             \n",
       "Electoral Trust 2003-04             5000000\n",
       "                2004-05           209257237\n",
       "                2005-06             3500000\n",
       "                2006-07           100000000\n",
       "                2007-08            57600000\n",
       "                2008-09           190030000\n",
       "                2009-10           484375414\n",
       "                2011-12            15000000\n",
       "                2012-13            75000000\n",
       "                2013-14           818720000\n",
       "                2014-15          2670875751\n",
       "Others          2003-04           141162222\n",
       "                2004-05           452346050\n",
       "                2005-06            96407293\n",
       "                2006-07            53178304\n",
       "                2007-08           292474020\n",
       "                2008-09           457876691\n",
       "                2009-10          1222295858\n",
       "                2010-11           253982700\n",
       "                2011-12           465926109\n",
       "                2012-13           916430132\n",
       "                2013-14          1659210120\n",
       "                2014-15          3553022689"
      ]
     },
     "execution_count": 146,
     "metadata": {},
     "output_type": "execute_result"
    }
   ],
   "source": [
    "df3 = df.groupby(['Type','Financial Year ']).sum()\n",
    "df3"
   ]
  },
  {
   "cell_type": "code",
   "execution_count": 147,
   "metadata": {},
   "outputs": [],
   "source": [
    "#Let's create a new data frame with financial years as index and type as columns\n",
    "df4 = pd.DataFrame()"
   ]
  },
  {
   "cell_type": "code",
   "execution_count": 148,
   "metadata": {},
   "outputs": [
    {
     "data": {
      "text/plain": [
       "Financial Year \n",
       "2003-04     141162222\n",
       "2004-05     452346050\n",
       "2005-06      96407293\n",
       "2006-07      53178304\n",
       "2007-08     292474020\n",
       "2008-09     457876691\n",
       "2009-10    1222295858\n",
       "2010-11     253982700\n",
       "2011-12     465926109\n",
       "2012-13     916430132\n",
       "2013-14    1659210120\n",
       "2014-15    3553022689\n",
       "Name: Amount, dtype: int64"
      ]
     },
     "execution_count": 148,
     "metadata": {},
     "output_type": "execute_result"
    }
   ],
   "source": [
    "df3.loc['Others','Amount']"
   ]
  },
  {
   "cell_type": "code",
   "execution_count": 149,
   "metadata": {},
   "outputs": [],
   "source": [
    "df4['Others'] = df3.loc['Others','Amount']\n",
    "df4['Electoral Trust'] = df3.loc['Electoral Trust','Amount']"
   ]
  },
  {
   "cell_type": "code",
   "execution_count": 150,
   "metadata": {},
   "outputs": [
    {
     "data": {
      "text/html": [
       "<div>\n",
       "<style scoped>\n",
       "    .dataframe tbody tr th:only-of-type {\n",
       "        vertical-align: middle;\n",
       "    }\n",
       "\n",
       "    .dataframe tbody tr th {\n",
       "        vertical-align: top;\n",
       "    }\n",
       "\n",
       "    .dataframe thead th {\n",
       "        text-align: right;\n",
       "    }\n",
       "</style>\n",
       "<table border=\"1\" class=\"dataframe\">\n",
       "  <thead>\n",
       "    <tr style=\"text-align: right;\">\n",
       "      <th></th>\n",
       "      <th>Others</th>\n",
       "      <th>Electoral Trust</th>\n",
       "    </tr>\n",
       "    <tr>\n",
       "      <th>Financial Year</th>\n",
       "      <th></th>\n",
       "      <th></th>\n",
       "    </tr>\n",
       "  </thead>\n",
       "  <tbody>\n",
       "    <tr>\n",
       "      <th>2003-04</th>\n",
       "      <td>141162222</td>\n",
       "      <td>5.000000e+06</td>\n",
       "    </tr>\n",
       "    <tr>\n",
       "      <th>2004-05</th>\n",
       "      <td>452346050</td>\n",
       "      <td>2.092572e+08</td>\n",
       "    </tr>\n",
       "    <tr>\n",
       "      <th>2005-06</th>\n",
       "      <td>96407293</td>\n",
       "      <td>3.500000e+06</td>\n",
       "    </tr>\n",
       "    <tr>\n",
       "      <th>2006-07</th>\n",
       "      <td>53178304</td>\n",
       "      <td>1.000000e+08</td>\n",
       "    </tr>\n",
       "    <tr>\n",
       "      <th>2007-08</th>\n",
       "      <td>292474020</td>\n",
       "      <td>5.760000e+07</td>\n",
       "    </tr>\n",
       "    <tr>\n",
       "      <th>2008-09</th>\n",
       "      <td>457876691</td>\n",
       "      <td>1.900300e+08</td>\n",
       "    </tr>\n",
       "    <tr>\n",
       "      <th>2009-10</th>\n",
       "      <td>1222295858</td>\n",
       "      <td>4.843754e+08</td>\n",
       "    </tr>\n",
       "    <tr>\n",
       "      <th>2010-11</th>\n",
       "      <td>253982700</td>\n",
       "      <td>NaN</td>\n",
       "    </tr>\n",
       "    <tr>\n",
       "      <th>2011-12</th>\n",
       "      <td>465926109</td>\n",
       "      <td>1.500000e+07</td>\n",
       "    </tr>\n",
       "    <tr>\n",
       "      <th>2012-13</th>\n",
       "      <td>916430132</td>\n",
       "      <td>7.500000e+07</td>\n",
       "    </tr>\n",
       "    <tr>\n",
       "      <th>2013-14</th>\n",
       "      <td>1659210120</td>\n",
       "      <td>8.187200e+08</td>\n",
       "    </tr>\n",
       "    <tr>\n",
       "      <th>2014-15</th>\n",
       "      <td>3553022689</td>\n",
       "      <td>2.670876e+09</td>\n",
       "    </tr>\n",
       "  </tbody>\n",
       "</table>\n",
       "</div>"
      ],
      "text/plain": [
       "                     Others  Electoral Trust\n",
       "Financial Year                              \n",
       "2003-04           141162222     5.000000e+06\n",
       "2004-05           452346050     2.092572e+08\n",
       "2005-06            96407293     3.500000e+06\n",
       "2006-07            53178304     1.000000e+08\n",
       "2007-08           292474020     5.760000e+07\n",
       "2008-09           457876691     1.900300e+08\n",
       "2009-10          1222295858     4.843754e+08\n",
       "2010-11           253982700              NaN\n",
       "2011-12           465926109     1.500000e+07\n",
       "2012-13           916430132     7.500000e+07\n",
       "2013-14          1659210120     8.187200e+08\n",
       "2014-15          3553022689     2.670876e+09"
      ]
     },
     "execution_count": 150,
     "metadata": {},
     "output_type": "execute_result"
    }
   ],
   "source": [
    "df4"
   ]
  },
  {
   "cell_type": "code",
   "execution_count": 151,
   "metadata": {},
   "outputs": [],
   "source": [
    "#Filling the nan values to 0\n",
    "df4.fillna(value=0,inplace=True)"
   ]
  },
  {
   "cell_type": "code",
   "execution_count": 152,
   "metadata": {},
   "outputs": [
    {
     "data": {
      "image/png": "[encoded data removed]",
      "text/plain": [
       "<Figure size 1080x504 with 1 Axes>"
      ]
     },
     "metadata": {
      "needs_background": "light"
     },
     "output_type": "display_data"
    }
   ],
   "source": [
    "df4.plot(kind='line',figsize=(15,7))\n",
    "plt.ylabel(\"Donation Amount (Rupees)\")\n",
    "plt.xlabel(\"Type\")\n",
    "plt.show() "
   ]
  },
  {
   "cell_type": "code",
   "execution_count": 153,
   "metadata": {},
   "outputs": [
    {
     "data": {
      "text/html": [
       "<div>\n",
       "<style scoped>\n",
       "    .dataframe tbody tr th:only-of-type {\n",
       "        vertical-align: middle;\n",
       "    }\n",
       "\n",
       "    .dataframe tbody tr th {\n",
       "        vertical-align: top;\n",
       "    }\n",
       "\n",
       "    .dataframe thead th {\n",
       "        text-align: right;\n",
       "    }\n",
       "</style>\n",
       "<table border=\"1\" class=\"dataframe\">\n",
       "  <thead>\n",
       "    <tr style=\"text-align: right;\">\n",
       "      <th></th>\n",
       "      <th></th>\n",
       "      <th>Amount</th>\n",
       "    </tr>\n",
       "    <tr>\n",
       "      <th>PAN Given</th>\n",
       "      <th>Party</th>\n",
       "      <th></th>\n",
       "    </tr>\n",
       "  </thead>\n",
       "  <tbody>\n",
       "    <tr>\n",
       "      <th rowspan=\"5\" valign=\"top\">N</th>\n",
       "      <th>BJP</th>\n",
       "      <td>4159772091</td>\n",
       "    </tr>\n",
       "    <tr>\n",
       "      <th>CPI</th>\n",
       "      <td>33840427</td>\n",
       "    </tr>\n",
       "    <tr>\n",
       "      <th>CPI(M)</th>\n",
       "      <td>34794301</td>\n",
       "    </tr>\n",
       "    <tr>\n",
       "      <th>INC</th>\n",
       "      <td>2844049865</td>\n",
       "    </tr>\n",
       "    <tr>\n",
       "      <th>NCP</th>\n",
       "      <td>92351000</td>\n",
       "    </tr>\n",
       "    <tr>\n",
       "      <th rowspan=\"5\" valign=\"top\">Y</th>\n",
       "      <th>BJP</th>\n",
       "      <td>5135753905</td>\n",
       "    </tr>\n",
       "    <tr>\n",
       "      <th>CPI</th>\n",
       "      <td>34283271</td>\n",
       "    </tr>\n",
       "    <tr>\n",
       "      <th>CPI(M)</th>\n",
       "      <td>115827827</td>\n",
       "    </tr>\n",
       "    <tr>\n",
       "      <th>INC</th>\n",
       "      <td>1187437484</td>\n",
       "    </tr>\n",
       "    <tr>\n",
       "      <th>NCP</th>\n",
       "      <td>555560419</td>\n",
       "    </tr>\n",
       "  </tbody>\n",
       "</table>\n",
       "</div>"
      ],
      "text/plain": [
       "                      Amount\n",
       "PAN Given Party             \n",
       "N         BJP     4159772091\n",
       "          CPI       33840427\n",
       "          CPI(M)    34794301\n",
       "          INC     2844049865\n",
       "          NCP       92351000\n",
       "Y         BJP     5135753905\n",
       "          CPI       34283271\n",
       "          CPI(M)   115827827\n",
       "          INC     1187437484\n",
       "          NCP      555560419"
      ]
     },
     "execution_count": 153,
     "metadata": {},
     "output_type": "execute_result"
    }
   ],
   "source": [
    "df5 = df.groupby(['PAN Given','Party']).sum()\n",
    "df5"
   ]
  },
  {
   "cell_type": "code",
   "execution_count": 154,
   "metadata": {},
   "outputs": [
    {
     "data": {
      "text/html": [
       "<div>\n",
       "<style scoped>\n",
       "    .dataframe tbody tr th:only-of-type {\n",
       "        vertical-align: middle;\n",
       "    }\n",
       "\n",
       "    .dataframe tbody tr th {\n",
       "        vertical-align: top;\n",
       "    }\n",
       "\n",
       "    .dataframe thead th {\n",
       "        text-align: right;\n",
       "    }\n",
       "</style>\n",
       "<table border=\"1\" class=\"dataframe\">\n",
       "  <thead>\n",
       "    <tr style=\"text-align: right;\">\n",
       "      <th></th>\n",
       "      <th></th>\n",
       "      <th>Amount</th>\n",
       "    </tr>\n",
       "    <tr>\n",
       "      <th>Party</th>\n",
       "      <th>PAN Given</th>\n",
       "      <th></th>\n",
       "    </tr>\n",
       "  </thead>\n",
       "  <tbody>\n",
       "    <tr>\n",
       "      <th rowspan=\"2\" valign=\"top\">BJP</th>\n",
       "      <th>N</th>\n",
       "      <td>4159772091</td>\n",
       "    </tr>\n",
       "    <tr>\n",
       "      <th>Y</th>\n",
       "      <td>5135753905</td>\n",
       "    </tr>\n",
       "    <tr>\n",
       "      <th rowspan=\"2\" valign=\"top\">CPI</th>\n",
       "      <th>N</th>\n",
       "      <td>33840427</td>\n",
       "    </tr>\n",
       "    <tr>\n",
       "      <th>Y</th>\n",
       "      <td>34283271</td>\n",
       "    </tr>\n",
       "    <tr>\n",
       "      <th rowspan=\"2\" valign=\"top\">CPI(M)</th>\n",
       "      <th>N</th>\n",
       "      <td>34794301</td>\n",
       "    </tr>\n",
       "    <tr>\n",
       "      <th>Y</th>\n",
       "      <td>115827827</td>\n",
       "    </tr>\n",
       "    <tr>\n",
       "      <th rowspan=\"2\" valign=\"top\">INC</th>\n",
       "      <th>N</th>\n",
       "      <td>2844049865</td>\n",
       "    </tr>\n",
       "    <tr>\n",
       "      <th>Y</th>\n",
       "      <td>1187437484</td>\n",
       "    </tr>\n",
       "    <tr>\n",
       "      <th rowspan=\"2\" valign=\"top\">NCP</th>\n",
       "      <th>N</th>\n",
       "      <td>92351000</td>\n",
       "    </tr>\n",
       "    <tr>\n",
       "      <th>Y</th>\n",
       "      <td>555560419</td>\n",
       "    </tr>\n",
       "  </tbody>\n",
       "</table>\n",
       "</div>"
      ],
      "text/plain": [
       "                      Amount\n",
       "Party  PAN Given            \n",
       "BJP    N          4159772091\n",
       "       Y          5135753905\n",
       "CPI    N            33840427\n",
       "       Y            34283271\n",
       "CPI(M) N            34794301\n",
       "       Y           115827827\n",
       "INC    N          2844049865\n",
       "       Y          1187437484\n",
       "NCP    N            92351000\n",
       "       Y           555560419"
      ]
     },
     "execution_count": 154,
     "metadata": {},
     "output_type": "execute_result"
    }
   ],
   "source": [
    "df6 = df.groupby(['Party','PAN Given']).sum()\n",
    "df6"
   ]
  },
  {
   "cell_type": "code",
   "execution_count": 172,
   "metadata": {},
   "outputs": [],
   "source": [
    "#Let's create a new data frame\n",
    "dfy = pd.DataFrame()"
   ]
  },
  {
   "cell_type": "code",
   "execution_count": 173,
   "metadata": {},
   "outputs": [],
   "source": [
    "dfy=df.groupby(['Financial Year ']).sum()\n",
    "#Filling the nan values to 0\n",
    "dfy.fillna(value=0,inplace=True)"
   ]
  },
  {
   "cell_type": "code",
   "execution_count": 174,
   "metadata": {},
   "outputs": [
    {
     "data": {
      "text/html": [
       "<div>\n",
       "<style scoped>\n",
       "    .dataframe tbody tr th:only-of-type {\n",
       "        vertical-align: middle;\n",
       "    }\n",
       "\n",
       "    .dataframe tbody tr th {\n",
       "        vertical-align: top;\n",
       "    }\n",
       "\n",
       "    .dataframe thead th {\n",
       "        text-align: right;\n",
       "    }\n",
       "</style>\n",
       "<table border=\"1\" class=\"dataframe\">\n",
       "  <thead>\n",
       "    <tr style=\"text-align: right;\">\n",
       "      <th></th>\n",
       "      <th>Amount</th>\n",
       "    </tr>\n",
       "    <tr>\n",
       "      <th>Financial Year</th>\n",
       "      <th></th>\n",
       "    </tr>\n",
       "  </thead>\n",
       "  <tbody>\n",
       "    <tr>\n",
       "      <th>2003-04</th>\n",
       "      <td>146162222</td>\n",
       "    </tr>\n",
       "    <tr>\n",
       "      <th>2004-05</th>\n",
       "      <td>661603287</td>\n",
       "    </tr>\n",
       "    <tr>\n",
       "      <th>2005-06</th>\n",
       "      <td>99907293</td>\n",
       "    </tr>\n",
       "    <tr>\n",
       "      <th>2006-07</th>\n",
       "      <td>153178304</td>\n",
       "    </tr>\n",
       "    <tr>\n",
       "      <th>2007-08</th>\n",
       "      <td>350074020</td>\n",
       "    </tr>\n",
       "    <tr>\n",
       "      <th>2008-09</th>\n",
       "      <td>647906691</td>\n",
       "    </tr>\n",
       "    <tr>\n",
       "      <th>2009-10</th>\n",
       "      <td>1706671272</td>\n",
       "    </tr>\n",
       "    <tr>\n",
       "      <th>2010-11</th>\n",
       "      <td>253982700</td>\n",
       "    </tr>\n",
       "    <tr>\n",
       "      <th>2011-12</th>\n",
       "      <td>480926109</td>\n",
       "    </tr>\n",
       "    <tr>\n",
       "      <th>2012-13</th>\n",
       "      <td>991430132</td>\n",
       "    </tr>\n",
       "    <tr>\n",
       "      <th>2013-14</th>\n",
       "      <td>2477930120</td>\n",
       "    </tr>\n",
       "    <tr>\n",
       "      <th>2014-15</th>\n",
       "      <td>6223898440</td>\n",
       "    </tr>\n",
       "  </tbody>\n",
       "</table>\n",
       "</div>"
      ],
      "text/plain": [
       "                     Amount\n",
       "Financial Year             \n",
       "2003-04           146162222\n",
       "2004-05           661603287\n",
       "2005-06            99907293\n",
       "2006-07           153178304\n",
       "2007-08           350074020\n",
       "2008-09           647906691\n",
       "2009-10          1706671272\n",
       "2010-11           253982700\n",
       "2011-12           480926109\n",
       "2012-13           991430132\n",
       "2013-14          2477930120\n",
       "2014-15          6223898440"
      ]
     },
     "execution_count": 174,
     "metadata": {},
     "output_type": "execute_result"
    }
   ],
   "source": [
    "dfy"
   ]
  },
  {
   "cell_type": "code",
   "execution_count": 180,
   "metadata": {},
   "outputs": [
    {
     "data": {
      "image/png": "[encoded data removed]",
      "text/plain": [
       "<Figure size 1080x504 with 1 Axes>"
      ]
     },
     "metadata": {
      "needs_background": "light"
     },
     "output_type": "display_data"
    }
   ],
   "source": [
    "dfy['Amount'].plot(kind='line',figsize=(15,7))\n",
    "plt.ylabel(\"Donation Amount (Rupees)\")\n",
    "plt.xlabel(\"financial year\")\n",
    "plt.show() "
   ]
  },
  {
   "cell_type": "code",
   "execution_count": null,
   "metadata": {},
   "outputs": [],
   "source": []
  }
 ],
 "metadata": {
  "kernelspec": {
   "display_name": "Python 3",
   "language": "python",
   "name": "python3"
  },
  "language_info": {
   "codemirror_mode": {
    "name": "ipython",
    "version": 3
   },
   "file_extension": ".py",
   "mimetype": "text/x-python",
   "name": "python",
   "nbconvert_exporter": "python",
   "pygments_lexer": "ipython3",
   "version": "3.7.1"
  }
 },
 "nbformat": 4,
 "nbformat_minor": 2
}
